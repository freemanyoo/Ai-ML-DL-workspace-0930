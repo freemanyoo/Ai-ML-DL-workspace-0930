{
 "nbformat": 4,
 "nbformat_minor": 0,
 "metadata": {
  "kernelspec": {
   "display_name": "Python 3",
   "language": "python",
   "name": "python3"
  },
  "language_info": {
   "codemirror_mode": {
    "name": "ipython",
    "version": 3
   },
   "file_extension": ".py",
   "mimetype": "text/x-python",
   "name": "python",
   "nbconvert_exporter": "python",
   "pygments_lexer": "ipython3",
   "version": "3.7.4"
  },
  "colab": {
   "name": "4.2 Autograd.ipynb",
   "provenance": [],
   "collapsed_sections": []
  }
 },
 "cells": [
  {
   "cell_type": "markdown",
   "metadata": {
    "id": "0nte_1dbsib0"
   },
   "source": [
    "# 4. 파이토치 기본\n",
    "## 4.2 역전파 - 선형회귀식"
   ]
  },
  {
   "cell_type": "code",
   "metadata": {
    "id": "CvAd2lVksg6h",
    "executionInfo": {
     "status": "ok",
     "timestamp": 1636291733513,
     "user_tz": -60,
     "elapsed": 26528,
     "user": {
      "displayName": "딥러닝호형",
      "photoUrl": "https://lh3.googleusercontent.com/a-/AOh14GhhDjkGnBZ0JW1k2J6y2lNP9dJeVbQWPuZEpfUc=s64",
      "userId": "11263585794403583722"
     }
    },
    "ExecuteTime": {
     "end_time": "2025-10-01T02:11:48.256980Z",
     "start_time": "2025-10-01T02:11:44.253885Z"
    }
   },
   "source": [
    "import torch\n",
    "from matplotlib import pyplot as plt"
   ],
   "outputs": [],
   "execution_count": 1
  },
  {
   "cell_type": "code",
   "metadata": {
    "id": "RI4IF-36sg6i",
    "executionInfo": {
     "status": "ok",
     "timestamp": 1636291826831,
     "user_tz": -60,
     "elapsed": 234,
     "user": {
      "displayName": "딥러닝호형",
      "photoUrl": "https://lh3.googleusercontent.com/a-/AOh14GhhDjkGnBZ0JW1k2J6y2lNP9dJeVbQWPuZEpfUc=s64",
      "userId": "11263585794403583722"
     }
    },
    "ExecuteTime": {
     "end_time": "2025-10-01T02:11:48.289245Z",
     "start_time": "2025-10-01T02:11:48.265231Z"
    }
   },
   "source": [
    "x = torch.FloatTensor(range(5)).unsqueeze(1)\n",
    "y = 2*x + torch.rand(5,1)\n",
    "print(x)\n",
    "print(y)\n",
    "num_features = x.shape[1]\n",
    "print(num_features)"
   ],
   "outputs": [
    {
     "name": "stdout",
     "output_type": "stream",
     "text": [
      "tensor([[0.],\n",
      "        [1.],\n",
      "        [2.],\n",
      "        [3.],\n",
      "        [4.]])\n",
      "tensor([[0.6702],\n",
      "        [2.2949],\n",
      "        [4.6233],\n",
      "        [6.0241],\n",
      "        [8.3329]])\n",
      "1\n"
     ]
    }
   ],
   "execution_count": 2
  },
  {
   "cell_type": "code",
   "metadata": {
    "id": "zi9Y3morsg6i",
    "colab": {
     "base_uri": "https://localhost:8080/"
    },
    "executionInfo": {
     "status": "ok",
     "timestamp": 1636291889327,
     "user_tz": -60,
     "elapsed": 327,
     "user": {
      "displayName": "딥러닝호형",
      "photoUrl": "https://lh3.googleusercontent.com/a-/AOh14GhhDjkGnBZ0JW1k2J6y2lNP9dJeVbQWPuZEpfUc=s64",
      "userId": "11263585794403583722"
     }
    },
    "outputId": "fc95a5bb-4cd2-4045-f51c-f286312dbc94",
    "ExecuteTime": {
     "end_time": "2025-10-01T02:11:48.313468Z",
     "start_time": "2025-10-01T02:11:48.307933Z"
    }
   },
   "source": [
    "print(x.shape, y.shape)"
   ],
   "outputs": [
    {
     "name": "stdout",
     "output_type": "stream",
     "text": [
      "torch.Size([5, 1]) torch.Size([5, 1])\n"
     ]
    }
   ],
   "execution_count": 3
  },
  {
   "cell_type": "code",
   "metadata": {
    "id": "hSrvaDPUsg6j",
    "executionInfo": {
     "status": "ok",
     "timestamp": 1636291891579,
     "user_tz": -60,
     "elapsed": 238,
     "user": {
      "displayName": "딥러닝호형",
      "photoUrl": "https://lh3.googleusercontent.com/a-/AOh14GhhDjkGnBZ0JW1k2J6y2lNP9dJeVbQWPuZEpfUc=s64",
      "userId": "11263585794403583722"
     }
    },
    "ExecuteTime": {
     "end_time": "2025-10-01T02:11:48.423132Z",
     "start_time": "2025-10-01T02:11:48.335566Z"
    }
   },
   "source": [
    "#dtype = torch.FloatTensor\n",
    "#W = Variable(torch.randn(num_features, 1), requires_grad=True)\n",
    "#b = Variable(torch.randn(1), requires_grad=True)\n",
    "w = torch.randn(num_features, 1, requires_grad=True)\n",
    "b = torch.randn(1, requires_grad=True)"
   ],
   "outputs": [],
   "execution_count": 4
  },
  {
   "metadata": {},
   "cell_type": "code",
   "outputs": [],
   "execution_count": null,
   "source": [
    "learning_rate = 1e-3 # 0.001\n",
    "optimizer = torch.optim.SGD([w, b], lr=learning_rate)"
   ]
  },
  {
   "metadata": {},
   "cell_type": "code",
   "outputs": [],
   "execution_count": null,
   "source": "print(w.shape, b.shape)"
  },
  {
   "metadata": {},
   "cell_type": "code",
   "outputs": [],
   "execution_count": null,
   "source": [
    "loss_stack = []\n",
    "for epoch in range(1001):\n",
    "\n",
    "    # 최적화 함수를 고르기\n",
    "    # 최적화가 가지고 있는 이전의 기울기를 0으로 초기화 하는 명령어,\n",
    "    optimizer.zero_grad()\n",
    "\n",
    "    # 임의의 수식이 들어간 자리에, 모델이 들어감\n",
    "    # y = wx + b, 순전파 및 예측하기.\n",
    "    # y_hat : 예측값,\n",
    "    y_hat = torch.matmul(x, w) + b\n",
    "    # 예측값 - 실제값을 빼고, 제곱 평균을 구하기. MSE\n",
    "    # 오차(손실) 작을수록 좋다.\n",
    "    loss = torch.mean((y_hat-y)**2)\n",
    "    # 얼마나 영향을 미쳤는지를 역으로 계산을 해주세요. (미분을 이용함)-> 최솟값 찾기 놀이.\n",
    "    # 1번 실행시 구한 w, b 의 값이 최적화 1번째 시도시 구한 최적값.\n",
    "    loss.backward()\n",
    "    # 역전파를 통해, 계산된 기울기를 참고해서, 최적화하기, 실제로 가중치 w, 편향b 업데이트\n",
    "    optimizer.step()\n",
    "    # 손실 값을 따로 기록을 해서, 얼마나 개선이 되는지를 추적하는 용도다. ~~\n",
    "    loss_stack.append(loss.item())\n",
    "    \n",
    "    if epoch % 100 == 0:\n",
    "        print(f'Epoch {epoch}:{loss.item()}')"
   ]
  },
  {
   "cell_type": "code",
   "metadata": {
    "id": "pPdXk7Atsg6l",
    "executionInfo": {
     "status": "ok",
     "timestamp": 1636292020368,
     "user_tz": -60,
     "elapsed": 210,
     "user": {
      "displayName": "딥러닝호형",
      "photoUrl": "https://lh3.googleusercontent.com/a-/AOh14GhhDjkGnBZ0JW1k2J6y2lNP9dJeVbQWPuZEpfUc=s64",
      "userId": "11263585794403583722"
     }
    },
    "ExecuteTime": {
     "end_time": "2025-10-01T02:11:58.724544Z",
     "start_time": "2025-10-01T02:11:58.721128Z"
    }
   },
   "source": [
    "with torch.no_grad():\n",
    "    y_hat = torch.matmul(x, w) + b"
   ],
   "outputs": [],
   "execution_count": 8
  },
  {
   "cell_type": "code",
   "metadata": {
    "id": "gJXgNOrZsg6l",
    "colab": {
     "base_uri": "https://localhost:8080/",
     "height": 336
    },
    "executionInfo": {
     "status": "ok",
     "timestamp": 1636292026587,
     "user_tz": -60,
     "elapsed": 697,
     "user": {
      "displayName": "딥러닝호형",
      "photoUrl": "https://lh3.googleusercontent.com/a-/AOh14GhhDjkGnBZ0JW1k2J6y2lNP9dJeVbQWPuZEpfUc=s64",
      "userId": "11263585794403583722"
     }
    },
    "outputId": "7acf7776-5bc8-406f-c221-e224015cdc50",
    "ExecuteTime": {
     "end_time": "2025-10-01T02:11:59.217726Z",
     "start_time": "2025-10-01T02:11:58.777103Z"
    }
   },
   "source": [
    "plt.figure(figsize=(10, 5))\n",
    "plt.subplot(121)\n",
    "plt.plot(loss_stack)\n",
    "plt.title(\"Loss\")\n",
    "plt.subplot(122)\n",
    "plt.plot(x, y,'.b')\n",
    "plt.plot(x, y_hat, 'r-')\n",
    "plt.legend(['ground truth','prediction'])\n",
    "plt.title(\"Prediction\")\n",
    "plt.show()"
   ],
   "outputs": [
    {
     "data": {
      "text/plain": [
       "<Figure size 1000x500 with 2 Axes>"
      ],
      "image/png": "[encoded data removed]"
     },
     "metadata": {},
     "output_type": "display_data",
     "jetTransient": {
      "display_id": null
     }
    }
   ],
   "execution_count": 9
  },
  {
   "cell_type": "code",
   "metadata": {
    "id": "LDV0hvfWsg6m",
    "ExecuteTime": {
     "end_time": "2025-10-01T02:41:46.074891900Z",
     "start_time": "2025-10-01T02:11:59.235156Z"
    }
   },
   "source": [
    ""
   ],
   "outputs": [],
   "execution_count": null
  }
 ]
}
