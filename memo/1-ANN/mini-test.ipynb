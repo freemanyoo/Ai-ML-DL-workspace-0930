{
 "cells": [
  {
   "cell_type": "code",
   "id": "initial_id",
   "metadata": {
    "collapsed": true,
    "ExecuteTime": {
     "end_time": "2025-10-02T03:42:42.456184Z",
     "start_time": "2025-10-02T03:42:42.443187Z"
    }
   },
   "source": [
    "import torch\n",
    "import torch.nn as nn\n",
    "import torch.optim as optim\n",
    "import numpy as np\n",
    "import pandas as pd\n",
    "import matplotlib.pyplot as plt\n",
    "from sklearn.model_selection import train_test_split\n",
    "from sklearn.preprocessing import StandardScaler\n",
    "from sklearn.metrics import mean_squared_error"
   ],
   "outputs": [],
   "execution_count": 30
  },
  {
   "metadata": {
    "ExecuteTime": {
     "end_time": "2025-10-02T03:42:42.501693Z",
     "start_time": "2025-10-02T03:42:42.482185Z"
    }
   },
   "cell_type": "code",
   "source": [
    "# 1 데이터 불러오기 (와인 품질 데이터셋)\n",
    "from sklearn.datasets import load_wine\n",
    "\n",
    "wine = load_wine()\n",
    "df = pd.DataFrame(data=wine.data, columns=wine.feature_names)\n",
    "df['target'] = wine.target\n",
    "print(\"--- 저장할 데이터 (DataFrame) ---\")\n",
    "print(df.head())\n",
    "print(\"---------------------------------\")\n",
    "df.to_csv('wine_data.csv', index=False, encoding='utf-8-sig')\n",
    "\n",
    "print(\"\\n'wine_data.csv' 파일이 성공적으로 저장되었습니다.\")\n"
   ],
   "id": "64bd721713c67454",
   "outputs": [
    {
     "name": "stdout",
     "output_type": "stream",
     "text": [
      "--- 저장할 데이터 (DataFrame) ---\n",
      "   alcohol  malic_acid   ash  alcalinity_of_ash  magnesium  total_phenols  \\\n",
      "0    14.23        1.71  2.43               15.6      127.0           2.80   \n",
      "1    13.20        1.78  2.14               11.2      100.0           2.65   \n",
      "2    13.16        2.36  2.67               18.6      101.0           2.80   \n",
      "3    14.37        1.95  2.50               16.8      113.0           3.85   \n",
      "4    13.24        2.59  2.87               21.0      118.0           2.80   \n",
      "\n",
      "   flavanoids  nonflavanoid_phenols  proanthocyanins  color_intensity   hue  \\\n",
      "0        3.06                  0.28             2.29             5.64  1.04   \n",
      "1        2.76                  0.26             1.28             4.38  1.05   \n",
      "2        3.24                  0.30             2.81             5.68  1.03   \n",
      "3        3.49                  0.24             2.18             7.80  0.86   \n",
      "4        2.69                  0.39             1.82             4.32  1.04   \n",
      "\n",
      "   od280/od315_of_diluted_wines  proline  target  \n",
      "0                          3.92   1065.0       0  \n",
      "1                          3.40   1050.0       0  \n",
      "2                          3.17   1185.0       0  \n",
      "3                          3.45   1480.0       0  \n",
      "4                          2.93    735.0       0  \n",
      "---------------------------------\n",
      "\n",
      "'wine_data.csv' 파일이 성공적으로 저장되었습니다.\n"
     ]
    }
   ],
   "execution_count": 31
  },
  {
   "metadata": {
    "ExecuteTime": {
     "end_time": "2025-10-02T03:42:42.531960Z",
     "start_time": "2025-10-02T03:42:42.521792Z"
    }
   },
   "cell_type": "code",
   "source": [
    "# 1 데이터 불러오기 (와인 품질 데이터셋)\n",
    "from sklearn.datasets import load_wine\n",
    "\n",
    "wine = load_wine()\n",
    "X = wine.data  # 특성 데이터 (13개)\n",
    "y = wine.target.reshape(-1, 1)  # 라벨 데이터 (0, 1, 2)\n",
    "\n",
    "# 🔹 품질 등급을 1~9 범위로 조정\n",
    "y = y * 3 + 1  # 기존 0~2 등급을 1~9 등급으로 변환\n",
    "\n",
    "# 2 데이터 전처리 (정규화 및 훈련/테스트 분할)\n",
    "scaler = StandardScaler()\n",
    "X_scaled = scaler.fit_transform(X)\n",
    "# random_state=42, 동일성 보장, 같은 데이터를 뽑는 용도\n",
    "X_train, X_test, y_train, y_test = train_test_split(X_scaled, y, test_size=0.2, random_state=42)\n",
    "\n",
    "# 3 PyTorch 텐서 변환\n",
    "X_train = torch.tensor(X_train, dtype=torch.float32)\n",
    "y_train = torch.tensor(y_train, dtype=torch.float32)\n",
    "\n",
    "X_test = torch.tensor(X_test, dtype=torch.float32)\n",
    "y_test = torch.tensor(y_test, dtype=torch.float32)\n"
   ],
   "id": "27b7ff2acd16377d",
   "outputs": [],
   "execution_count": 32
  },
  {
   "metadata": {
    "ExecuteTime": {
     "end_time": "2025-10-02T03:42:42.547617Z",
     "start_time": "2025-10-02T03:42:42.537478Z"
    }
   },
   "cell_type": "code",
   "source": [
    "# 4 MLP 모델 정의\n",
    "class Regressor(nn.Module):\n",
    "    def __init__(self):\n",
    "        super().__init__()\n",
    "        self.fc1 = nn.Linear(13, 50)  # 입력층 → 은닉층1\n",
    "        self.fc2 = nn.Linear(50, 30)  # 은닉층1 → 은닉층2\n",
    "        self.fc3 = nn.Linear(30, 1)  # 은닉층2 → 출력층\n",
    "        self.dropout = nn.Dropout(0.5)  # 50% 드롭아웃\n",
    "        self.relu = nn.ReLU()  # 활성화 함수\n",
    "\n",
    "    def forward(self, x):\n",
    "        x = self.relu(self.fc1(x))\n",
    "        x = self.dropout(x)  # 드롭아웃 적용\n",
    "        x = self.relu(self.fc2(x))\n",
    "        x = self.fc3(x)  # 출력층 (회귀이므로 활성화 함수 없음)\n",
    "        return x"
   ],
   "id": "e97d0864e807d32d",
   "outputs": [],
   "execution_count": 33
  },
  {
   "metadata": {
    "ExecuteTime": {
     "end_time": "2025-10-02T03:42:49.159274Z",
     "start_time": "2025-10-02T03:42:42.556133Z"
    }
   },
   "cell_type": "code",
   "source": [
    "# 5 모델, 손실 함수, 최적화 함수 설정\n",
    "model = Regressor()\n",
    "criterion = nn.MSELoss()  # 손실 함수 (MSE)\n",
    "optimizer = optim.Adam(model.parameters(), lr=0.001)  # Adam 최적화\n",
    "\n",
    "# 6 학습 설정\n",
    "num_epochs = 1000\n",
    "batch_size = 32\n",
    "train_losses = []\n",
    "\n",
    "# 7 배치 학습을 위한 데이터로더 생성\n",
    "train_dataset = torch.utils.data.TensorDataset(X_train, y_train)\n",
    "train_loader = torch.utils.data.DataLoader(train_dataset, batch_size=batch_size, shuffle=True)\n",
    "\n",
    "# 8 모델 학습\n",
    "for epoch in range(num_epochs):\n",
    "    epoch_loss = 0.0\n",
    "    for batch_X, batch_y in train_loader:\n",
    "        optimizer.zero_grad()\n",
    "        predictions = model(batch_X)\n",
    "        loss = criterion(predictions, batch_y)\n",
    "        loss.backward()\n",
    "        optimizer.step()\n",
    "        epoch_loss += loss.item()\n",
    "\n",
    "    # 평균 손실 저장\n",
    "    train_losses.append(epoch_loss / len(train_loader))\n",
    "\n",
    "    if (epoch + 1) % 100 == 0:\n",
    "        print(f\"Epoch [{epoch + 1}/{num_epochs}], Loss: {epoch_loss:.4f}\")\n",
    "\n",
    "# 9 손실값 그래프 출력\n",
    "plt.plot(train_losses)\n",
    "plt.xlabel('Epoch')\n",
    "plt.ylabel('MSE Loss')\n",
    "plt.title('Training Loss Over Epochs')\n",
    "plt.show()"
   ],
   "id": "988e461fd69b8e74",
   "outputs": [
    {
     "name": "stdout",
     "output_type": "stream",
     "text": [
      "Epoch [100/1000], Loss: 0.3963\n",
      "Epoch [200/1000], Loss: 0.2033\n",
      "Epoch [300/1000], Loss: 0.1180\n",
      "Epoch [400/1000], Loss: 0.0887\n",
      "Epoch [500/1000], Loss: 0.0724\n",
      "Epoch [600/1000], Loss: 0.0444\n",
      "Epoch [700/1000], Loss: 0.0564\n",
      "Epoch [800/1000], Loss: 0.0082\n",
      "Epoch [900/1000], Loss: 0.0065\n",
      "Epoch [1000/1000], Loss: 0.0027\n"
     ]
    },
    {
     "data": {
      "text/plain": [
       "<Figure size 640x480 with 1 Axes>"
      ],
      "image/png": "[encoded data removed]"
     },
     "metadata": {},
     "output_type": "display_data",
     "jetTransient": {
      "display_id": null
     }
    }
   ],
   "execution_count": 34
  },
  {
   "metadata": {
    "ExecuteTime": {
     "end_time": "2025-10-02T03:42:49.375288Z",
     "start_time": "2025-10-02T03:42:49.224549Z"
    }
   },
   "cell_type": "code",
   "source": [
    "# 🔟 모델 평가 및 예측\n",
    "model.eval()\n",
    "with torch.no_grad():\n",
    "    y_pred = model(X_test).numpy()\n",
    "\n",
    "# 🔟 예측값 vs 실제값 시각화\n",
    "plt.scatter(y_test, y_pred, alpha=0.5)\n",
    "plt.xlabel(\"Actual Quality\")\n",
    "plt.ylabel(\"Predicted Quality\")\n",
    "plt.title(\"Wine Quality Prediction\")\n",
    "plt.show()\n",
    "\n",
    "# 🔟 성능 평가 (MSE)\n",
    "test_mse = mean_squared_error(y_test, y_pred)\n",
    "print(f\"Test MSE: {test_mse:.4f}\")"
   ],
   "id": "19f033521c6c7cbb",
   "outputs": [
    {
     "data": {
      "text/plain": [
       "<Figure size 640x480 with 1 Axes>"
      ],
      "image/png": "[encoded data removed]"
     },
     "metadata": {},
     "output_type": "display_data",
     "jetTransient": {
      "display_id": null
     }
    },
    {
     "name": "stdout",
     "output_type": "stream",
     "text": [
      "Test MSE: 0.0172\n"
     ]
    }
   ],
   "execution_count": 35
  },
  {
   "metadata": {
    "ExecuteTime": {
     "end_time": "2025-10-02T03:42:49.390945Z",
     "start_time": "2025-10-02T03:42:49.380808Z"
    }
   },
   "cell_type": "code",
   "source": [
    "# ⭐ 샘플 데이터 입력 및 예측 (1~9 정수 변환 추가) ⭐\n",
    "def predict_sample(sample):\n",
    "    \"\"\"\n",
    "    입력된 샘플 데이터를 모델을 통해 와인 품질을 예측하는 함수.\n",
    "    예측된 품질을 1~9 범위의 정수로 변환하여 출력함.\n",
    "    \"\"\"\n",
    "    # 샘플 데이터 정규화\n",
    "    sample = np.array(sample).reshape(1, -1)\n",
    "    sample_scaled = scaler.transform(sample)\n",
    "    sample_tensor = torch.tensor(sample_scaled, dtype=torch.float32)\n",
    "\n",
    "    # 모델 예측\n",
    "    model.eval()\n",
    "    with torch.no_grad():\n",
    "        predicted_quality = model(sample_tensor).item()  # 예측값 변환\n",
    "\n",
    "    # 🔹 1~9 범위 내로 조정 (반올림 후 범위 제한)\n",
    "    predicted_quality_int = min(9, max(1, round(predicted_quality)))\n",
    "\n",
    "    return predicted_quality, predicted_quality_int\n",
    "\n",
    "\n",
    "# 📌 예제 샘플 데이터 (와인 특성 13개)\n",
    "sample_data = [13.0, 2.0, 2.5, 15.0, 100.0, 2.5, 2.9, 0.28, 2.2, 5.5, 1.04, 3.0, 800.0]\n",
    "\n",
    "# 🏆 예측 실행\n",
    "predicted_quality, predicted_quality_int = predict_sample(sample_data)\n",
    "print(f\"🔍 샘플 데이터의 예측된 와인 품질 (실수값): {predicted_quality:.2f}\")\n",
    "print(f\"✅ 샘플 데이터의 예측된 와인 품질 (정수 등급 1~9): {predicted_quality_int}\")\n"
   ],
   "id": "f7016062c8b34cfc",
   "outputs": [
    {
     "name": "stdout",
     "output_type": "stream",
     "text": [
      "🔍 샘플 데이터의 예측된 와인 품질 (실수값): -0.01\n",
      "✅ 샘플 데이터의 예측된 와인 품질 (정수 등급 1~9): 1\n"
     ]
    }
   ],
   "execution_count": 36
  },
  {
   "metadata": {
    "ExecuteTime": {
     "end_time": "2025-10-02T03:42:49.421461Z",
     "start_time": "2025-10-02T03:42:49.400462Z"
    }
   },
   "cell_type": "code",
   "source": [
    "\n",
    "# ⭐ 샘플 데이터 5개를 출력하고 기존 품질 vs 예측된 품질 비교 ⭐\n",
    "def predict_multiple_samples(X_data, y_true, num_samples=5):\n",
    "    \"\"\"\n",
    "    데이터셋에서 num_samples개의 샘플을 선택하여 모델 예측값과 실제 품질을 비교 출력\n",
    "    \"\"\"\n",
    "    model.eval()\n",
    "    indices = np.random.choice(len(X_data), num_samples, replace=False)  # 무작위 5개 샘플 선택\n",
    "    samples = X_data[indices]  # 샘플 데이터 선택\n",
    "    true_quality = y_true[indices].reshape(-1)  # 실제 품질\n",
    "\n",
    "    # 샘플 데이터 정규화\n",
    "    samples_scaled = scaler.transform(samples)\n",
    "    samples_tensor = torch.tensor(samples_scaled, dtype=torch.float32)\n",
    "\n",
    "    # 모델 예측 수행\n",
    "    with torch.no_grad():\n",
    "        predicted_quality = model(samples_tensor).numpy().flatten()\n",
    "\n",
    "    # 🔹 1~9 범위 내로 변환 (반올림 후 범위 제한)\n",
    "    predicted_quality_int = [min(9, max(1, round(q))) for q in predicted_quality]\n",
    "\n",
    "    # 결과 출력\n",
    "    print(\"\\n🔍 샘플 5개 데이터 예측 결과:\")\n",
    "    print(\"=\" * 60)\n",
    "    print(f\"{'샘플 인덱스':<12}{'실제 품질':<12}{'예측 품질 (실수)':<20}{'예측 품질 (정수)'}\")\n",
    "    print(\"=\" * 60)\n",
    "    for i, idx in enumerate(indices):\n",
    "        print(f\"{idx:<12}{true_quality[i]:<12.0f}{predicted_quality[i]:<20.2f}{predicted_quality_int[i]}\")\n",
    "\n",
    "\n",
    "# 🏆 샘플 5개 예측 실행\n",
    "predict_multiple_samples(X, y)"
   ],
   "id": "3033acb086db486b",
   "outputs": [
    {
     "name": "stdout",
     "output_type": "stream",
     "text": [
      "\n",
      "🔍 샘플 5개 데이터 예측 결과:\n",
      "============================================================\n",
      "샘플 인덱스      실제 품질       예측 품질 (실수)          예측 품질 (정수)\n",
      "============================================================\n",
      "173         2           1.97                2\n",
      "31          0           0.01                1\n",
      "133         2           1.98                2\n",
      "68          1           1.01                1\n",
      "58          0           0.01                1\n"
     ]
    }
   ],
   "execution_count": 37
  }
 ],
 "metadata": {
  "kernelspec": {
   "display_name": "Python 3",
   "language": "python",
   "name": "python3"
  },
  "language_info": {
   "codemirror_mode": {
    "name": "ipython",
    "version": 2
   },
   "file_extension": ".py",
   "mimetype": "text/x-python",
   "name": "python",
   "nbconvert_exporter": "python",
   "pygments_lexer": "ipython2",
   "version": "2.7.6"
  }
 },
 "nbformat": 4,
 "nbformat_minor": 5
}
