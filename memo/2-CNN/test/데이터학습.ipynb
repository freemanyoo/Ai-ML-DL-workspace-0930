{
 "cells": [
  {
   "metadata": {
    "ExecuteTime": {
     "end_time": "2025-10-10T01:21:02.411194Z",
     "start_time": "2025-10-10T01:21:02.400106Z"
    }
   },
   "cell_type": "code",
   "source": [
    "# import zipfile\n",
    "# import os\n",
    "#\n",
    "# # 1. 압축 파일 경로와 압축을 풀 경로를 지정합니다.\n",
    "# # zip_file_path = r'C:\\Users\\it\\Documents\\Python-workspace\\Ai-ML-DL-workspace-0930\\memo\\2-CNN\\train.zip'\n",
    "# # destination_path = r'C:\\Users\\it\\Documents\\Python-workspace\\Ai-ML-DL-workspace-0930\\memo\\2-CNN\\class'\n",
    "#\n",
    "# # 2. 압축을 풀 폴더가 없으면 생성합니다.\n",
    "# os.makedirs(destination_path, exist_ok=True)\n",
    "#\n",
    "# try:\n",
    "#     # 3. zipfile 라이브러리를 사용하여 압축을 풉니다.\n",
    "#     with zipfile.ZipFile(zip_file_path, 'r') as zip_ref:\n",
    "#         zip_ref.extractall(destination_path)\n",
    "#\n",
    "#     print(f\"✅ 압축 풀기 완료!\")\n",
    "#     print(f\"   - 원본: {zip_file_path}\")\n",
    "#     print(f\"   - 위치: {destination_path}\")\n",
    "#\n",
    "# except FileNotFoundError:\n",
    "#     print(f\"❌ 에러: '{zip_file_path}' 파일을 찾을 수 없습니다. 경로를 확인해주세요.\")\n",
    "# except Exception as e:\n",
    "#     print(f\"❌ 에러: 압축을 푸는 중 오류가 발생했습니다. {e}\")"
   ],
   "id": "3476328ab3dfa529",
   "outputs": [],
   "execution_count": 27
  },
  {
   "metadata": {
    "ExecuteTime": {
     "end_time": "2025-10-10T01:21:02.737507Z",
     "start_time": "2025-10-10T01:21:02.444301Z"
    }
   },
   "cell_type": "code",
   "source": [
    "import torch\n",
    "import torchvision.transforms as transforms\n",
    "import torchvision.datasets as datasets\n",
    "from torch.utils.data import DataLoader\n",
    "from PIL import Image  # PIL(Pillow) 라이브러리에서 Image 모듈을 가져옵니다. 이미지 유효성 검사에 필요합니다.\n",
    "import os\n",
    "\n",
    "# 데이터 폴더 경로 설정\n",
    "data_dir = \"C:/Users/it/Documents/Python-workspace/Ai-ML-DL-workspace-0930/memo/2-CNN/test/class/\"\n",
    "\n",
    "\n",
    "# --- 추가된 부분 ---\n",
    "# 이미지 파일이 유효한지 확인하는 함수입니다.\n",
    "# PIL 라이브러리를 사용해 이미지를 열어보고, 손상되었거나 열 수 없는 파일은 건너뛰도록 합니다.\n",
    "def is_valid_file(path):\n",
    "    try:\n",
    "        # 파일을 열어 이미지인지 확인합니다.\n",
    "        with Image.open(path) as img:\n",
    "            img.verify()  # 이미지 데이터가 실제로 유효한지 검사합니다.\n",
    "        return True\n",
    "    except Exception as e:\n",
    "        # 파일이 손상되었거나 이미지가 아닌 경우, 경고 메시지를 출력하고 False를 반환합니다.\n",
    "        print(f\"⚠️ 손상되었거나 유효하지 않은 이미지 파일을 건너뜁니다: {path} - {e}\")\n",
    "        return False\n",
    "\n",
    "\n",
    "# --- 여기까지 ---\n",
    "\n",
    "# 데이터 변환 (이미지 크기 조정, 정규화)\n",
    "transform = transforms.Compose([\n",
    "    transforms.Resize((224, 224)),  # VGG 스타일 크기\n",
    "    transforms.ToTensor(),\n",
    "    transforms.Normalize(mean=[0.5, 0.5, 0.5], std=[0.5, 0.5, 0.5])  # 정규화\n",
    "])\n",
    "\n",
    "# --- 수정된 부분 ---\n",
    "# 데이터셋 로드 시 is_valid_file 함수를 사용하여 손상된 파일을 자동으로 제외합니다.\n",
    "train_dataset = datasets.ImageFolder(\n",
    "    root=data_dir,\n",
    "    transform=transform,\n",
    "    is_valid_file=is_valid_file  # ImageFolder가 파일을 읽기 전에 이 함수를 호출하여 유효성을 검사합니다.\n",
    ")\n",
    "# --- 여기까지 ---\n",
    "\n",
    "train_loader = DataLoader(train_dataset, batch_size=32, shuffle=True)\n",
    "\n",
    "# 클래스 목록 및 필터링 후 총 이미지 개수 확인\n",
    "class_names = train_dataset.classes\n",
    "print(f\"✅ 클래스 목록: {class_names}\")\n",
    "print(f\"✅ 필터링 후 유효한 이미지 개수: {len(train_dataset)}\")"
   ],
   "id": "9d9018b8590a0dcb",
   "outputs": [
    {
     "name": "stdout",
     "output_type": "stream",
     "text": [
      "⚠️ 손상되었거나 유효하지 않은 이미지 파일을 건너뜁니다: C:/Users/it/Documents/Python-workspace/Ai-ML-DL-workspace-0930/memo/2-CNN/test/class/책상_images\\책상_72.jpg - cannot identify image file 'C:/Users/it/Documents/Python-workspace/Ai-ML-DL-workspace-0930/memo/2-CNN/test/class/책상_images\\\\책상_72.jpg'\n",
      "✅ 클래스 목록: ['의자_images', '책상_images']\n",
      "✅ 필터링 후 유효한 이미지 개수: 493\n"
     ]
    }
   ],
   "execution_count": 28
  },
  {
   "metadata": {
    "ExecuteTime": {
     "end_time": "2025-10-10T01:21:02.782927Z",
     "start_time": "2025-10-10T01:21:02.770696Z"
    }
   },
   "cell_type": "code",
   "source": [
    "import os\n",
    "\n",
    "# 데이터 폴더 경로 설정\n",
    "data_dir = \"C:/Users/it/Documents/Python-workspace/Ai-ML-DL-workspace-0930/memo/2-CNN/test/class/\"\n",
    "\n",
    "# 폴더 안에 있는 클래스 확인\n",
    "print(\"🔍 데이터셋 폴더 내 클래스 확인:\")\n",
    "print(os.listdir(data_dir))\n"
   ],
   "id": "8341436cc17e25d3",
   "outputs": [
    {
     "name": "stdout",
     "output_type": "stream",
     "text": [
      "🔍 데이터셋 폴더 내 클래스 확인:\n",
      "['의자_images', '책상_images']\n"
     ]
    }
   ],
   "execution_count": 29
  },
  {
   "metadata": {
    "ExecuteTime": {
     "end_time": "2025-10-10T01:21:03.298369Z",
     "start_time": "2025-10-10T01:21:02.817516Z"
    }
   },
   "cell_type": "code",
   "source": [
    "import torch.nn as nn\n",
    "import torch.optim as optim\n",
    "\n",
    "\n",
    "# CNN 모델 정의 (은닉층 2개 포함)\n",
    "class CustomCNN(nn.Module):\n",
    "    def __init__(self, num_classes):\n",
    "        super(CustomCNN, self).__init__()\n",
    "        self.conv1 = nn.Conv2d(3, 32, kernel_size=3, stride=1, padding=1)\n",
    "        self.conv2 = nn.Conv2d(32, 64, kernel_size=3, stride=1, padding=1)\n",
    "        self.pool = nn.MaxPool2d(2, 2)\n",
    "        self.fc1 = nn.Linear(64 * 56 * 56, 512)  # 이미지 크기 224x224 → 56x56 풀링 후\n",
    "        self.fc2 = nn.Linear(512, num_classes)\n",
    "        self.relu = nn.ReLU()\n",
    "\n",
    "    def forward(self, x):\n",
    "        x = self.pool(self.relu(self.conv1(x)))\n",
    "        x = self.pool(self.relu(self.conv2(x)))\n",
    "        x = x.view(-1, 64 * 56 * 56)  # Flatten\n",
    "        x = self.relu(self.fc1(x))\n",
    "        x = self.fc2(x)\n",
    "        return x\n",
    "\n",
    "\n",
    "# 클래스 개수 설정\n",
    "num_classes = len(class_names)\n",
    "model = CustomCNN(num_classes)\n",
    "\n",
    "# 최적화 함수 및 손실 함수\n",
    "criterion = nn.CrossEntropyLoss()\n",
    "optimizer = optim.Adam(model.parameters(), lr=0.001)\n"
   ],
   "id": "27d968d8dd025775",
   "outputs": [],
   "execution_count": 30
  },
  {
   "metadata": {
    "jupyter": {
     "is_executing": true
    },
    "ExecuteTime": {
     "start_time": "2025-10-10T01:21:03.321454Z"
    }
   },
   "cell_type": "code",
   "source": [
    "num_epochs = 10  # 학습 횟수\n",
    "device = torch.device(\"cuda\" if torch.cuda.is_available() else \"cpu\")\n",
    "model.to(device)\n",
    "\n",
    "print(\"🚀 모델 학습 시작...\")\n",
    "for epoch in range(num_epochs):\n",
    "    running_loss = 0.0\n",
    "    for i, (images, labels) in enumerate(train_loader):\n",
    "        images, labels = images.to(device), labels.to(device)\n",
    "\n",
    "        optimizer.zero_grad()\n",
    "        outputs = model(images)\n",
    "        loss = criterion(outputs, labels)\n",
    "        loss.backward()\n",
    "        optimizer.step()\n",
    "        running_loss += loss.item()\n",
    "\n",
    "        # 1번마다 손실값 출력\n",
    "        if (i + 1) % 1 == 0:\n",
    "            print(\n",
    "                f\"Epoch [{epoch + 1}/{num_epochs}], Step [{i + 1}/{len(train_loader)}], Loss: {running_loss / 100:.4f}\")\n",
    "            running_loss = 0.0\n"
   ],
   "id": "8e543f5f2feb2ce4",
   "outputs": [
    {
     "name": "stdout",
     "output_type": "stream",
     "text": [
      "🚀 모델 학습 시작...\n",
      "Epoch [1/10], Step [1/16], Loss: 0.0068\n",
      "Epoch [1/10], Step [2/16], Loss: 1.0132\n",
      "Epoch [1/10], Step [3/16], Loss: 0.0695\n",
      "Epoch [1/10], Step [4/16], Loss: 0.0626\n",
      "Epoch [1/10], Step [5/16], Loss: 0.0501\n",
      "Epoch [1/10], Step [6/16], Loss: 0.0293\n",
      "Epoch [1/10], Step [7/16], Loss: 0.0154\n",
      "Epoch [1/10], Step [8/16], Loss: 0.0079\n",
      "Epoch [1/10], Step [9/16], Loss: 0.0063\n",
      "Epoch [1/10], Step [10/16], Loss: 0.0056\n",
      "Epoch [1/10], Step [11/16], Loss: 0.0078\n",
      "Epoch [1/10], Step [12/16], Loss: 0.0073\n",
      "Epoch [1/10], Step [13/16], Loss: 0.0069\n",
      "Epoch [1/10], Step [14/16], Loss: 0.0076\n",
      "Epoch [1/10], Step [15/16], Loss: 0.0056\n",
      "Epoch [1/10], Step [16/16], Loss: 0.0063\n",
      "Epoch [2/10], Step [1/16], Loss: 0.0062\n",
      "Epoch [2/10], Step [2/16], Loss: 0.0060\n",
      "Epoch [2/10], Step [3/16], Loss: 0.0062\n",
      "Epoch [2/10], Step [4/16], Loss: 0.0061\n",
      "Epoch [2/10], Step [5/16], Loss: 0.0063\n",
      "Epoch [2/10], Step [6/16], Loss: 0.0059\n",
      "Epoch [2/10], Step [7/16], Loss: 0.0062\n",
      "Epoch [2/10], Step [8/16], Loss: 0.0062\n",
      "Epoch [2/10], Step [9/16], Loss: 0.0064\n",
      "Epoch [2/10], Step [10/16], Loss: 0.0064\n",
      "Epoch [2/10], Step [11/16], Loss: 0.0066\n",
      "Epoch [2/10], Step [12/16], Loss: 0.0061\n",
      "Epoch [2/10], Step [13/16], Loss: 0.0061\n",
      "Epoch [2/10], Step [14/16], Loss: 0.0066\n",
      "Epoch [2/10], Step [15/16], Loss: 0.0068\n",
      "Epoch [2/10], Step [16/16], Loss: 0.0055\n",
      "Epoch [3/10], Step [1/16], Loss: 0.0053\n",
      "Epoch [3/10], Step [2/16], Loss: 0.0060\n",
      "Epoch [3/10], Step [3/16], Loss: 0.0055\n",
      "Epoch [3/10], Step [4/16], Loss: 0.0058\n",
      "Epoch [3/10], Step [5/16], Loss: 0.0057\n",
      "Epoch [3/10], Step [6/16], Loss: 0.0060\n",
      "Epoch [3/10], Step [7/16], Loss: 0.0053\n",
      "Epoch [3/10], Step [8/16], Loss: 0.0063\n",
      "Epoch [3/10], Step [9/16], Loss: 0.0062\n",
      "Epoch [3/10], Step [10/16], Loss: 0.0065\n",
      "Epoch [3/10], Step [11/16], Loss: 0.0058\n",
      "Epoch [3/10], Step [12/16], Loss: 0.0061\n",
      "Epoch [3/10], Step [13/16], Loss: 0.0058\n",
      "Epoch [3/10], Step [14/16], Loss: 0.0056\n",
      "Epoch [3/10], Step [15/16], Loss: 0.0058\n",
      "Epoch [3/10], Step [16/16], Loss: 0.0058\n",
      "Epoch [4/10], Step [1/16], Loss: 0.0053\n",
      "Epoch [4/10], Step [2/16], Loss: 0.0060\n",
      "Epoch [4/10], Step [3/16], Loss: 0.0057\n",
      "Epoch [4/10], Step [4/16], Loss: 0.0052\n",
      "Epoch [4/10], Step [5/16], Loss: 0.0050\n",
      "Epoch [4/10], Step [6/16], Loss: 0.0047\n",
      "Epoch [4/10], Step [7/16], Loss: 0.0056\n",
      "Epoch [4/10], Step [8/16], Loss: 0.0059\n",
      "Epoch [4/10], Step [9/16], Loss: 0.0054\n",
      "Epoch [4/10], Step [10/16], Loss: 0.0047\n",
      "Epoch [4/10], Step [11/16], Loss: 0.0055\n",
      "Epoch [4/10], Step [12/16], Loss: 0.0049\n",
      "Epoch [4/10], Step [13/16], Loss: 0.0053\n",
      "Epoch [4/10], Step [14/16], Loss: 0.0044\n",
      "Epoch [4/10], Step [15/16], Loss: 0.0050\n",
      "Epoch [4/10], Step [16/16], Loss: 0.0046\n",
      "Epoch [5/10], Step [1/16], Loss: 0.0046\n",
      "Epoch [5/10], Step [2/16], Loss: 0.0046\n",
      "Epoch [5/10], Step [3/16], Loss: 0.0047\n",
      "Epoch [5/10], Step [4/16], Loss: 0.0046\n",
      "Epoch [5/10], Step [5/16], Loss: 0.0040\n",
      "Epoch [5/10], Step [6/16], Loss: 0.0040\n",
      "Epoch [5/10], Step [7/16], Loss: 0.0046\n",
      "Epoch [5/10], Step [8/16], Loss: 0.0050\n",
      "Epoch [5/10], Step [9/16], Loss: 0.0044\n",
      "Epoch [5/10], Step [10/16], Loss: 0.0048\n",
      "Epoch [5/10], Step [11/16], Loss: 0.0047\n",
      "Epoch [5/10], Step [12/16], Loss: 0.0043\n",
      "Epoch [5/10], Step [13/16], Loss: 0.0047\n",
      "Epoch [5/10], Step [14/16], Loss: 0.0037\n",
      "Epoch [5/10], Step [15/16], Loss: 0.0055\n",
      "Epoch [5/10], Step [16/16], Loss: 0.0051\n",
      "Epoch [6/10], Step [1/16], Loss: 0.0034\n",
      "Epoch [6/10], Step [2/16], Loss: 0.0056\n",
      "Epoch [6/10], Step [3/16], Loss: 0.0042\n",
      "Epoch [6/10], Step [4/16], Loss: 0.0040\n",
      "Epoch [6/10], Step [5/16], Loss: 0.0039\n",
      "Epoch [6/10], Step [6/16], Loss: 0.0029\n",
      "Epoch [6/10], Step [7/16], Loss: 0.0037\n",
      "Epoch [6/10], Step [8/16], Loss: 0.0033\n",
      "Epoch [6/10], Step [9/16], Loss: 0.0046\n",
      "Epoch [6/10], Step [10/16], Loss: 0.0044\n",
      "Epoch [6/10], Step [11/16], Loss: 0.0042\n",
      "Epoch [6/10], Step [12/16], Loss: 0.0046\n",
      "Epoch [6/10], Step [13/16], Loss: 0.0030\n",
      "Epoch [6/10], Step [14/16], Loss: 0.0044\n",
      "Epoch [6/10], Step [15/16], Loss: 0.0044\n",
      "Epoch [6/10], Step [16/16], Loss: 0.0046\n",
      "Epoch [7/10], Step [1/16], Loss: 0.0047\n",
      "Epoch [7/10], Step [2/16], Loss: 0.0035\n",
      "Epoch [7/10], Step [3/16], Loss: 0.0031\n",
      "Epoch [7/10], Step [4/16], Loss: 0.0042\n",
      "Epoch [7/10], Step [5/16], Loss: 0.0032\n",
      "Epoch [7/10], Step [6/16], Loss: 0.0034\n",
      "Epoch [7/10], Step [7/16], Loss: 0.0045\n",
      "Epoch [7/10], Step [8/16], Loss: 0.0053\n",
      "Epoch [7/10], Step [9/16], Loss: 0.0035\n",
      "Epoch [7/10], Step [10/16], Loss: 0.0031\n",
      "Epoch [7/10], Step [11/16], Loss: 0.0041\n",
      "Epoch [7/10], Step [12/16], Loss: 0.0032\n",
      "Epoch [7/10], Step [13/16], Loss: 0.0027\n"
     ]
    }
   ],
   "execution_count": null
  },
  {
   "metadata": {
    "ExecuteTime": {
     "end_time": "2025-10-10T01:50:22.731930Z",
     "start_time": "2025-10-10T01:50:22.199559Z"
    }
   },
   "cell_type": "code",
   "source": [
    "model_path = \"C:/Users/it/Documents/Python-workspace/Ai-ML-DL-workspace-0930/memo/2-CNN/custom_cnn.pth\"\n",
    "torch.save(model.state_dict(), model_path)\n",
    "print(f\"✅ 학습된 모델이 저장되었습니다: {model_path}\")\n"
   ],
   "id": "b9030631d8d3d1db",
   "outputs": [
    {
     "ename": "NameError",
     "evalue": "name 'torch' is not defined",
     "output_type": "error",
     "traceback": [
      "\u001B[1;31m---------------------------------------------------------------------------\u001B[0m",
      "\u001B[1;31mNameError\u001B[0m                                 Traceback (most recent call last)",
      "Cell \u001B[1;32mIn[1], line 2\u001B[0m\n\u001B[0;32m      1\u001B[0m model_path \u001B[38;5;241m=\u001B[39m \u001B[38;5;124m\"\u001B[39m\u001B[38;5;124mC:/Users/it/Documents/Python-workspace/Ai-ML-DL-workspace-0930/memo/2-CNN/custom_cnn.pth\u001B[39m\u001B[38;5;124m\"\u001B[39m\n\u001B[1;32m----> 2\u001B[0m \u001B[43mtorch\u001B[49m\u001B[38;5;241m.\u001B[39msave(model\u001B[38;5;241m.\u001B[39mstate_dict(), model_path)\n\u001B[0;32m      3\u001B[0m \u001B[38;5;28mprint\u001B[39m(\u001B[38;5;124mf\u001B[39m\u001B[38;5;124m\"\u001B[39m\u001B[38;5;124m✅ 학습된 모델이 저장되었습니다: \u001B[39m\u001B[38;5;132;01m{\u001B[39;00mmodel_path\u001B[38;5;132;01m}\u001B[39;00m\u001B[38;5;124m\"\u001B[39m)\n",
      "\u001B[1;31mNameError\u001B[0m: name 'torch' is not defined"
     ]
    }
   ],
   "execution_count": 1
  },
  {
   "metadata": {
    "ExecuteTime": {
     "end_time": "2025-10-10T01:50:44.332209Z",
     "start_time": "2025-10-10T01:50:44.285585Z"
    }
   },
   "cell_type": "code",
   "source": [
    "# 모델 불러오기\n",
    "\n",
    "def load_model(model_path, num_classes):\n",
    "    model = CustomCNN(num_classes)\n",
    "    model.load_state_dict(torch.load(model_path))\n",
    "    model.eval()\n",
    "    return model\n",
    "\n",
    "\n",
    "# 저장된 모델 불러오기\n",
    "loaded_model = load_model(model_path, num_classes)\n"
   ],
   "id": "2846ab7fa733f1d0",
   "outputs": [
    {
     "ename": "NameError",
     "evalue": "name 'num_classes' is not defined",
     "output_type": "error",
     "traceback": [
      "\u001B[1;31m---------------------------------------------------------------------------\u001B[0m",
      "\u001B[1;31mNameError\u001B[0m                                 Traceback (most recent call last)",
      "Cell \u001B[1;32mIn[3], line 11\u001B[0m\n\u001B[0;32m      7\u001B[0m     \u001B[38;5;28;01mreturn\u001B[39;00m model\n\u001B[0;32m     10\u001B[0m \u001B[38;5;66;03m# 저장된 모델 불러오기\u001B[39;00m\n\u001B[1;32m---> 11\u001B[0m loaded_model \u001B[38;5;241m=\u001B[39m load_model(model_path, \u001B[43mnum_classes\u001B[49m)\n",
      "\u001B[1;31mNameError\u001B[0m: name 'num_classes' is not defined"
     ]
    }
   ],
   "execution_count": 3
  },
  {
   "metadata": {
    "ExecuteTime": {
     "end_time": "2025-10-10T00:55:24.501950Z",
     "start_time": "2025-10-10T00:55:24.343099Z"
    }
   },
   "cell_type": "code",
   "source": [
    "import os\n",
    "\n",
    "os.environ['KMP_DUPLICATE_LIB_OK'] = 'True'\n",
    "\n",
    "from PIL import Image\n",
    "import matplotlib.pyplot as plt\n",
    "%matplotlib inline\n",
    "\n",
    "def predict_sample(image_path, model):\n",
    "    \"\"\"\n",
    "    저장된 CNN 모델을 사용하여 샘플 이미지를 예측하는 함수.\n",
    "    \"\"\"\n",
    "    # 이미지 불러오기 및 전처리\n",
    "    image = Image.open(image_path).convert(\"RGB\")\n",
    "    transform = transforms.Compose([\n",
    "        transforms.Resize((224, 224)),\n",
    "        transforms.ToTensor(),\n",
    "        transforms.Normalize(mean=[0.5, 0.5, 0.5], std=[0.5, 0.5, 0.5])\n",
    "    ])\n",
    "    image = transform(image).unsqueeze(0)  # 배치 차원 추가 (1, 3, 224, 224)\n",
    "\n",
    "    # 모델 예측\n",
    "    with torch.no_grad():\n",
    "        output = model(image)\n",
    "        _, predicted = torch.max(output, 1)\n",
    "\n",
    "    # 결과 출력\n",
    "    plt.imshow(Image.open(image_path))\n",
    "    plt.title(f\"Predicted Class: {class_names[predicted.item()]}\")\n",
    "    plt.axis('off')\n",
    "    plt.show()\n",
    "\n",
    "    print(f\"🔍 예측된 클래스: {class_names[predicted.item()]}\")\n",
    "\n",
    "\n",
    "# 🏆 샘플 이미지 예측 실행 (사용자 이미지 입력)\n",
    "sample_image = \"C:/Users/it/Documents/Python-workspace/Ai-ML-DL-workspace-0930/memo/2-CNN/test/sample1.png\"\n",
    "predict_sample(sample_image, loaded_model)\n"
   ],
   "id": "19a72ba0db339dce",
   "outputs": [
    {
     "data": {
      "text/plain": [
       "<Figure size 640x480 with 1 Axes>"
      ],
      "image/png": "[encoded data removed]"
     },
     "metadata": {},
     "output_type": "display_data",
     "jetTransient": {
      "display_id": null
     }
    },
    {
     "name": "stdout",
     "output_type": "stream",
     "text": [
      "🔍 예측된 클래스: 책상_images\n"
     ]
    }
   ],
   "execution_count": 26
  },
  {
   "metadata": {
    "ExecuteTime": {
     "end_time": "2025-10-10T00:51:05.943802Z",
     "start_time": "2025-10-10T00:44:36.702459Z"
    }
   },
   "cell_type": "code",
   "source": "",
   "id": "39f74c1fb1aa2cc1",
   "outputs": [],
   "execution_count": null
  }
 ],
 "metadata": {
  "kernelspec": {
   "display_name": "Python 3 (ipykernel)",
   "language": "python",
   "name": "python3"
  },
  "language_info": {
   "codemirror_mode": {
    "name": "ipython",
    "version": 3
   },
   "file_extension": ".py",
   "mimetype": "text/x-python",
   "name": "python",
   "nbconvert_exporter": "python",
   "pygments_lexer": "ipython3",
   "version": "3.10.0"
  }
 },
 "nbformat": 4,
 "nbformat_minor": 5
}
