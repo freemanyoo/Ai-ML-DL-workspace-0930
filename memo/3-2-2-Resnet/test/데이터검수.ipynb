{
 "cells": [
  {
   "metadata": {
    "ExecuteTime": {
     "end_time": "2025-10-10T08:34:19.221644Z",
     "start_time": "2025-10-10T08:34:18.787870Z"
    }
   },
   "cell_type": "code",
   "source": [
    "import torch\n",
    "import torch.nn as nn\n",
    "import torch.nn.functional as F\n",
    "import torchvision.models as models\n",
    "from torchvision import transforms\n",
    "from PIL import Image\n",
    "import os\n",
    "import shutil\n",
    "import operator\n",
    "\n",
    "# ===================================================================\n",
    "# 설정 (사용자 환경에 맞게 경로를 수정해주세요)\n",
    "# ===================================================================\n",
    "# 1. 학습된 모델 파일 경로\n",
    "model_path = \"C:\\\\Users\\\\it\\\\Documents\\\\Python-workspace\\\\Ai-ML-DL-workspace-0930\\\\memo\\\\3-Resnet\\\\test\\\\best_model.pth\"\n",
    "\n",
    "# 2. 검수할 원본 이미지 데이터가 있는 폴더 경로\n",
    "data_dir = \"C:\\\\Users\\\\it\\\\Documents\\\\Python-workspace\\\\Ai-ML-DL-workspace-0930\\\\memo\\\\3-Resnet\\\\test\\\\class\\\\\"\n",
    "# ===================================================================\n",
    "\n",
    "print(\"🚀 1단계: 모델 및 데이터 경로 설정을 시작합니다...\")\n",
    "\n",
    "class_names = sorted([d.name for d in os.scandir(data_dir) if d.is_dir()])\n",
    "num_classes = len(class_names)\n",
    "\n",
    "model = models.resnet50(pretrained=False)\n",
    "model.fc = nn.Linear(model.fc.in_features, num_classes)\n",
    "model.load_state_dict(torch.load(model_path, map_location=torch.device('cpu')))\n",
    "model.eval()\n",
    "\n",
    "transform_pred = transforms.Compose([\n",
    "    transforms.Resize((224, 224)),\n",
    "    transforms.ToTensor(),\n",
    "    transforms.Normalize(mean=[0.485, 0.456, 0.406], std=[0.229, 0.224, 0.225])\n",
    "])\n",
    "\n",
    "print(f\"✅ 1단계 완료: 모델 및 데이터 준비 완료. 클래스: {class_names}\")"
   ],
   "id": "67aa46108dc7be4f",
   "outputs": [
    {
     "name": "stdout",
     "output_type": "stream",
     "text": [
      "🚀 1단계: 모델 및 데이터 경로 설정을 시작합니다...\n",
      "✅ 1단계 완료: 모델 및 데이터 준비 완료. 클래스: ['의자_images', '책상_images']\n"
     ]
    }
   ],
   "execution_count": 30
  },
  {
   "metadata": {
    "ExecuteTime": {
     "end_time": "2025-10-10T08:34:52.542493Z",
     "start_time": "2025-10-10T08:34:19.229156Z"
    }
   },
   "cell_type": "code",
   "source": [
    "print(\"🚀 2단계: 전체 이미지에 대한 예측을 시작합니다... (시간 소요)\")\n",
    "\n",
    "results = []\n",
    "image_paths = []\n",
    "for class_index, class_name in enumerate(class_names):\n",
    "    class_dir_path = os.path.join(data_dir, class_name)\n",
    "    for fname in os.listdir(class_dir_path):\n",
    "        fpath = os.path.join(class_dir_path, fname)\n",
    "        try:\n",
    "            Image.open(fpath).verify()\n",
    "            image_paths.append((fpath, class_index))\n",
    "        except Exception:\n",
    "            print(f\"⚠️ 이미지가 아니거나 손상된 파일은 건너뜁니다: {fpath}\")\n",
    "\n",
    "with torch.no_grad():\n",
    "    for i, (path, true_label_index) in enumerate(image_paths):\n",
    "        if (i + 1) % 50 == 0:\n",
    "            print(f\"  - 진행 중: {i + 1} / {len(image_paths)}\")\n",
    "        try:\n",
    "            image = Image.open(path).convert(\"RGB\")\n",
    "            image_tensor = transform_pred(image).unsqueeze(0)\n",
    "            output = model(image_tensor)\n",
    "            probabilities = F.softmax(output, dim=1)[0]\n",
    "            predicted_label_index = torch.argmax(probabilities).item()\n",
    "            confidence = probabilities[predicted_label_index].item()\n",
    "            all_probs = probabilities.cpu().numpy()\n",
    "            results.append({\n",
    "                \"path\": path, \"true_label\": class_names[true_label_index],\n",
    "                \"predicted_label\": class_names[predicted_label_index],\n",
    "                \"confidence\": confidence, \"is_correct\": true_label_index == predicted_label_index,\n",
    "                \"probabilities\": all_probs\n",
    "            })\n",
    "        except Exception as e:\n",
    "            print(f\"❌ 예측 중 오류 발생: {path} - {e}\")\n",
    "\n",
    "print(f\"✅ 2단계 완료: 총 {len(results)}개 이미지 예측 완료!\")"
   ],
   "id": "78b6eda0e9cccb87",
   "outputs": [
    {
     "name": "stdout",
     "output_type": "stream",
     "text": [
      "🚀 2단계: 전체 이미지에 대한 예측을 시작합니다... (시간 소요)\n",
      "⚠️ 이미지가 아니거나 손상된 파일은 건너뜁니다: C:\\Users\\it\\Documents\\Python-workspace\\Ai-ML-DL-workspace-0930\\memo\\3-Resnet\\test\\class\\책상_images\\책상_72.jpg\n",
      "  - 진행 중: 50 / 493\n",
      "  - 진행 중: 100 / 493\n",
      "  - 진행 중: 150 / 493\n",
      "  - 진행 중: 200 / 493\n",
      "  - 진행 중: 250 / 493\n",
      "  - 진행 중: 300 / 493\n",
      "  - 진행 중: 350 / 493\n",
      "  - 진행 중: 400 / 493\n",
      "  - 진행 중: 450 / 493\n",
      "✅ 2단계 완료: 총 493개 이미지 예측 완료!\n"
     ]
    }
   ],
   "execution_count": 31
  },
  {
   "metadata": {
    "ExecuteTime": {
     "end_time": "2025-10-10T08:34:52.682643Z",
     "start_time": "2025-10-10T08:34:52.657763Z"
    }
   },
   "cell_type": "code",
   "source": [
    "print(\"🚀 3단계: 예측 결과를 바탕으로 '문제 데이터'를 분류합니다...\")\n",
    "\n",
    "misclassified_confident = [res for res in results if not res[\"is_correct\"] and res[\"confidence\"] > 0.90]\n",
    "ambiguous_cases = [res for res in results if 0.5 <= res[\"confidence\"] < 0.65]\n",
    "\n",
    "for res in results:\n",
    "    true_label_idx = class_names.index(res['true_label'])\n",
    "    res['loss'] = -torch.log(torch.tensor(res['probabilities'][true_label_idx]) + 1e-9).item()\n",
    "hardest_cases = sorted(results, key=operator.itemgetter('loss'), reverse=True)\n",
    "\n",
    "print(\"✅ 3단계 완료: 문제 데이터 분류 완료.\")\n",
    "print(f\"  - 라벨링 오류 의심: {len(misclassified_confident)}개\")\n",
    "print(f\"  - 애매한 데이터 의심: {len(ambiguous_cases)}개\")\n",
    "print(f\"  - 가장 어려운 데이터 (Top 20): {min(20, len(hardest_cases))}개\")"
   ],
   "id": "63ab0251985a0910",
   "outputs": [
    {
     "name": "stdout",
     "output_type": "stream",
     "text": [
      "🚀 3단계: 예측 결과를 바탕으로 '문제 데이터'를 분류합니다...\n",
      "✅ 3단계 완료: 문제 데이터 분류 완료.\n",
      "  - 라벨링 오류 의심: 2개\n",
      "  - 애매한 데이터 의심: 126개\n",
      "  - 가장 어려운 데이터 (Top 20): 20개\n"
     ]
    }
   ],
   "execution_count": 32
  },
  {
   "metadata": {
    "ExecuteTime": {
     "end_time": "2025-10-10T08:34:52.792158Z",
     "start_time": "2025-10-10T08:34:52.688644Z"
    }
   },
   "cell_type": "code",
   "source": [
    "print(\"🚀 4단계: 검토용 폴더를 생성하고 의심스러운 파일들을 '이동'합니다...\")\n",
    "\n",
    "review_base_dir = os.path.abspath(os.path.join(data_dir, \"..\", \"review_folders\"))\n",
    "if os.path.exists(review_base_dir):\n",
    "    shutil.rmtree(review_base_dir)\n",
    "os.makedirs(review_base_dir, exist_ok=True)\n",
    "print(f\"📂 검토용 상위 폴더 생성: {review_base_dir}\")\n",
    "\n",
    "moved_files = set()\n",
    "\n",
    "for class_name in class_names:\n",
    "    class_review_dir = os.path.join(review_base_dir, class_name)\n",
    "    os.makedirs(class_review_dir, exist_ok=True)\n",
    "    print(f\"\\n[클래스: {class_name}] 검토 시작...\")\n",
    "\n",
    "    # 유형 1: 라벨링 오류 의심\n",
    "    dir_label_error = os.path.join(class_review_dir, \"1_labeling_error_suspicion\")\n",
    "    os.makedirs(dir_label_error, exist_ok=True)\n",
    "    files_to_move = [res for res in misclassified_confident if res['true_label'] == class_name]\n",
    "    moved_count = 0\n",
    "    for res in files_to_move:\n",
    "        if res[\"path\"] in moved_files: continue\n",
    "        fname = os.path.basename(res[\"path\"])\n",
    "        shutil.move(res[\"path\"], os.path.join(dir_label_error, fname))  # 원본 파일명 그대로 이동\n",
    "        moved_files.add(res[\"path\"])\n",
    "        moved_count += 1\n",
    "    print(f\"  - 유형 1 (라벨링 오류 의심): {moved_count}개 파일 이동 완료.\")\n",
    "\n",
    "    # 유형 2: 애매한 데이터 의심\n",
    "    dir_ambiguous = os.path.join(class_review_dir, \"2_ambiguous_data_suspicion\")\n",
    "    os.makedirs(dir_ambiguous, exist_ok=True)\n",
    "    files_to_move = [res for res in ambiguous_cases if res['true_label'] == class_name]\n",
    "    moved_count = 0\n",
    "    for res in files_to_move:\n",
    "        if res[\"path\"] in moved_files: continue\n",
    "        fname = os.path.basename(res[\"path\"])\n",
    "        shutil.move(res[\"path\"], os.path.join(dir_ambiguous, fname))  # 원본 파일명 그대로 이동\n",
    "        moved_files.add(res[\"path\"])\n",
    "        moved_count += 1\n",
    "    print(f\"  - 유형 2 (애매한 데이터 의심): {moved_count}개 파일 이동 완료.\")\n",
    "\n",
    "    # 유형 3: 모델이 가장 어려워하는 데이터\n",
    "    dir_hardest = os.path.join(class_review_dir, \"3_hardest_to_learn\")\n",
    "    os.makedirs(dir_hardest, exist_ok=True)\n",
    "    files_to_move = [res for res in hardest_cases if res['true_label'] == class_name][:20]\n",
    "    moved_count = 0\n",
    "    for res in files_to_move:\n",
    "        if res[\"path\"] in moved_files: continue\n",
    "        fname = os.path.basename(res[\"path\"])\n",
    "        shutil.move(res[\"path\"], os.path.join(dir_hardest, fname))  # 원본 파일명 그대로 이동\n",
    "        moved_files.add(res[\"path\"])\n",
    "        moved_count += 1\n",
    "    print(f\"  - 유형 3 (가장 어려운 데이터 Top 20): {moved_count}개 파일 이동 완료.\")\n",
    "\n",
    "print(f\"\\n\\n✅ 모든 의심 파일을 'review_folders'로 이동했습니다. 이제 직접 폴더를 확인하고, 잘못된 파일을 삭제해주세요.\")"
   ],
   "id": "9bd06ad3fe4120ad",
   "outputs": [
    {
     "name": "stdout",
     "output_type": "stream",
     "text": [
      "🚀 4단계: 검토용 폴더를 생성하고 의심스러운 파일들을 '이동'합니다...\n",
      "📂 검토용 상위 폴더 생성: C:\\Users\\it\\Documents\\Python-workspace\\Ai-ML-DL-workspace-0930\\memo\\3-Resnet\\test\\review_folders\n",
      "\n",
      "[클래스: 의자_images] 검토 시작...\n",
      "  - 유형 1 (라벨링 오류 의심): 1개 파일 이동 완료.\n",
      "  - 유형 2 (애매한 데이터 의심): 54개 파일 이동 완료.\n",
      "  - 유형 3 (가장 어려운 데이터 Top 20): 15개 파일 이동 완료.\n",
      "\n",
      "[클래스: 책상_images] 검토 시작...\n",
      "  - 유형 1 (라벨링 오류 의심): 1개 파일 이동 완료.\n",
      "  - 유형 2 (애매한 데이터 의심): 72개 파일 이동 완료.\n",
      "  - 유형 3 (가장 어려운 데이터 Top 20): 7개 파일 이동 완료.\n",
      "\n",
      "\n",
      "✅ 모든 의심 파일을 'review_folders'로 이동했습니다. 이제 직접 폴더를 확인하고, 잘못된 파일을 삭제해주세요.\n"
     ]
    }
   ],
   "execution_count": 33
  },
  {
   "metadata": {
    "ExecuteTime": {
     "end_time": "2025-10-10T08:38:42.593385Z",
     "start_time": "2025-10-10T08:38:42.550324Z"
    }
   },
   "cell_type": "code",
   "source": [
    "print(\"🚀 5단계: 검토 완료된 깨끗한 파일들을 원본 위치로 복원합니다...\")\n",
    "print(\"          ('review_folders'에서 삭제하지 않고 남겨둔 파일들이 대상입니다)\")\n",
    "\n",
    "review_base_dir = os.path.abspath(os.path.join(data_dir, \"..\", \"review_folders\"))\n",
    "\n",
    "if not os.path.exists(review_base_dir):\n",
    "    print(\"⚠️ 'review_folders'가 없습니다. 복원할 파일이 없습니다.\")\n",
    "else:\n",
    "    restored_count = 0\n",
    "    for class_name in os.listdir(review_base_dir):\n",
    "        class_review_dir = os.path.join(review_base_dir, class_name)\n",
    "        if not os.path.isdir(class_review_dir): continue\n",
    "\n",
    "        original_destination_dir = os.path.join(data_dir, class_name)\n",
    "        if not os.path.exists(original_destination_dir):\n",
    "            os.makedirs(original_destination_dir)\n",
    "\n",
    "        for suspicion_type_folder in os.listdir(class_review_dir):\n",
    "            suspicion_dir_path = os.path.join(class_review_dir, suspicion_type_folder)\n",
    "            if not os.path.isdir(suspicion_dir_path): continue\n",
    "\n",
    "            for fname in os.listdir(suspicion_dir_path):\n",
    "                current_path = os.path.join(suspicion_dir_path, fname)\n",
    "                # 원본 파일명이 유지되었으므로, 바로 목적지 경로로 이동\n",
    "                destination_path = os.path.join(original_destination_dir, fname)\n",
    "\n",
    "                shutil.move(current_path, destination_path)\n",
    "                restored_count += 1\n",
    "\n",
    "    print(f\"\\n✅ 5단계 완료: 총 {restored_count}개의 파일을 원본 위치로 복원했습니다.\")\n",
    "\n",
    "    try:\n",
    "        shutil.rmtree(review_base_dir)\n",
    "        print(\"🗑️ 'review_folders'를 성공적으로 삭제했습니다.\")\n",
    "    except OSError as e:\n",
    "        print(f\"🗑️ 'review_folders' 삭제 중 오류 발생 (폴더가 비어있지 않을 수 있음): {e}\")"
   ],
   "id": "71fe757e3fb8d87f",
   "outputs": [
    {
     "name": "stdout",
     "output_type": "stream",
     "text": [
      "🚀 5단계: 검토 완료된 깨끗한 파일들을 원본 위치로 복원합니다...\n",
      "          ('review_folders'에서 삭제하지 않고 남겨둔 파일들이 대상입니다)\n",
      "\n",
      "✅ 5단계 완료: 총 22개의 파일을 원본 위치로 복원했습니다.\n",
      "🗑️ 'review_folders'를 성공적으로 삭제했습니다.\n"
     ]
    }
   ],
   "execution_count": 35
  }
 ],
 "metadata": {
  "kernelspec": {
   "display_name": "Python 3",
   "language": "python",
   "name": "python3"
  },
  "language_info": {
   "codemirror_mode": {
    "name": "ipython",
    "version": 2
   },
   "file_extension": ".py",
   "mimetype": "text/x-python",
   "name": "python",
   "nbconvert_exporter": "python",
   "pygments_lexer": "ipython2",
   "version": "2.7.6"
  }
 },
 "nbformat": 4,
 "nbformat_minor": 5
}
