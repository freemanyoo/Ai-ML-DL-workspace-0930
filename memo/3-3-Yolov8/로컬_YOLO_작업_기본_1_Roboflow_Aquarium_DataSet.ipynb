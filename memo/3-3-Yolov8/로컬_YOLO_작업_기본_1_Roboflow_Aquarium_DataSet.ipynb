{
 "nbformat": 4,
 "nbformat_minor": 0,
 "metadata": {
  "colab": {
   "provenance": [],
   "gpuType": "A100",
   "authorship_tag": "ABX9TyMNUMlmGuBW9wo75iKL0Pwv"
  },
  "kernelspec": {
   "name": "python3",
   "display_name": "Python 3 (ipykernel)",
   "language": "python"
  },
  "language_info": {
   "name": "python"
  },
  "accelerator": "GPU"
 },
 "cells": [
  {
   "metadata": {
    "id": "hJBPB6QnzM5o",
    "ExecuteTime": {
     "end_time": "2025-10-16T00:22:59.289386Z",
     "start_time": "2025-10-16T00:22:59.265267Z"
    }
   },
   "cell_type": "code",
   "source": [
    "from pathlib import Path\n",
    "import os\n",
    "\n",
    "# 1. 작업 경로 설정 (pathlib 사용)\n",
    "base_path = Path(\"C:/Users/it/Documents/Python-workspace/Ai-ML-DL-workspace-0930/memo/3-3-Yolov8\")\n",
    "\n",
    "# 경로가 존재하지 않으면 생성\n",
    "base_path.mkdir(parents=True, exist_ok=True)\n",
    "print(f\"기본 작업 경로가 설정되었습니다: {base_path}\")"
   ],
   "outputs": [
    {
     "name": "stdout",
     "output_type": "stream",
     "text": [
      "기본 작업 경로가 설정되었습니다: C:\\Users\\it\\Documents\\Python-workspace\\Ai-ML-DL-workspace-0930\\memo\\3-3-Yolov8\n"
     ]
    }
   ],
   "execution_count": 1
  },
  {
   "cell_type": "code",
   "source": [
    "# 2. GPU 확인 (NVIDIA GPU가 없는 경우 오류가 출력되지만 정상입니다)\n",
    "!nvidia-smi"
   ],
   "metadata": {
    "id": "6DFfHeXDzgmq",
    "ExecuteTime": {
     "end_time": "2025-10-16T00:22:59.352646Z",
     "start_time": "2025-10-16T00:22:59.305405Z"
    }
   },
   "outputs": [
    {
     "name": "stderr",
     "output_type": "stream",
     "text": [
      "'nvidia-smi'��(��) ���� �Ǵ� �ܺ� ����, ������ �� �ִ� ���α׷�, �Ǵ�\n",
      "��ġ ������ �ƴմϴ�.\n"
     ]
    }
   ],
   "execution_count": 2
  },
  {
   "cell_type": "code",
   "source": [
    "# 3. 필수 라이브러리 설치\n",
    "!pip install ultralytics requests pyyaml pathlib"
   ],
   "metadata": {
    "id": "H2qUjmVWzgwl",
    "ExecuteTime": {
     "end_time": "2025-10-16T00:23:01.994367Z",
     "start_time": "2025-10-16T00:22:59.358649Z"
    }
   },
   "outputs": [
    {
     "name": "stdout",
     "output_type": "stream",
     "text": [
      "Requirement already satisfied: ultralytics in c:\\users\\it\\anaconda3\\envs\\pytorch\\lib\\site-packages (8.3.214)\n",
      "Requirement already satisfied: requests in c:\\users\\it\\anaconda3\\envs\\pytorch\\lib\\site-packages (2.32.5)\n",
      "Requirement already satisfied: pyyaml in c:\\users\\it\\anaconda3\\envs\\pytorch\\lib\\site-packages (6.0.2)\n",
      "Collecting pathlib\n",
      "  Downloading pathlib-1.0.1-py3-none-any.whl.metadata (5.1 kB)\n",
      "Requirement already satisfied: numpy>=1.23.0 in c:\\users\\it\\anaconda3\\envs\\pytorch\\lib\\site-packages (from ultralytics) (2.0.1)\n",
      "Requirement already satisfied: matplotlib>=3.3.0 in c:\\users\\it\\anaconda3\\envs\\pytorch\\lib\\site-packages (from ultralytics) (3.10.6)\n",
      "Requirement already satisfied: opencv-python>=4.6.0 in c:\\users\\it\\anaconda3\\envs\\pytorch\\lib\\site-packages (from ultralytics) (4.12.0.88)\n",
      "Requirement already satisfied: pillow>=7.1.2 in c:\\users\\it\\anaconda3\\envs\\pytorch\\lib\\site-packages (from ultralytics) (11.1.0)\n",
      "Requirement already satisfied: scipy>=1.4.1 in c:\\users\\it\\anaconda3\\envs\\pytorch\\lib\\site-packages (from ultralytics) (1.15.3)\n",
      "Requirement already satisfied: torch>=1.8.0 in c:\\users\\it\\anaconda3\\envs\\pytorch\\lib\\site-packages (from ultralytics) (2.8.0)\n",
      "Requirement already satisfied: torchvision>=0.9.0 in c:\\users\\it\\anaconda3\\envs\\pytorch\\lib\\site-packages (from ultralytics) (0.23.0)\n",
      "Requirement already satisfied: psutil in c:\\users\\it\\anaconda3\\envs\\pytorch\\lib\\site-packages (from ultralytics) (7.0.0)\n",
      "Requirement already satisfied: polars in c:\\users\\it\\anaconda3\\envs\\pytorch\\lib\\site-packages (from ultralytics) (1.34.0)\n",
      "Requirement already satisfied: ultralytics-thop>=2.0.0 in c:\\users\\it\\anaconda3\\envs\\pytorch\\lib\\site-packages (from ultralytics) (2.0.17)\n",
      "Requirement already satisfied: charset_normalizer<4,>=2 in c:\\users\\it\\anaconda3\\envs\\pytorch\\lib\\site-packages (from requests) (3.3.2)\n",
      "Requirement already satisfied: idna<4,>=2.5 in c:\\users\\it\\anaconda3\\envs\\pytorch\\lib\\site-packages (from requests) (3.7)\n",
      "Requirement already satisfied: urllib3<3,>=1.21.1 in c:\\users\\it\\anaconda3\\envs\\pytorch\\lib\\site-packages (from requests) (2.5.0)\n",
      "Requirement already satisfied: certifi>=2017.4.17 in c:\\users\\it\\anaconda3\\envs\\pytorch\\lib\\site-packages (from requests) (2025.10.5)\n",
      "Requirement already satisfied: contourpy>=1.0.1 in c:\\users\\it\\anaconda3\\envs\\pytorch\\lib\\site-packages (from matplotlib>=3.3.0->ultralytics) (1.3.1)\n",
      "Requirement already satisfied: cycler>=0.10 in c:\\users\\it\\anaconda3\\envs\\pytorch\\lib\\site-packages (from matplotlib>=3.3.0->ultralytics) (0.11.0)\n",
      "Requirement already satisfied: fonttools>=4.22.0 in c:\\users\\it\\anaconda3\\envs\\pytorch\\lib\\site-packages (from matplotlib>=3.3.0->ultralytics) (4.59.2)\n",
      "Requirement already satisfied: kiwisolver>=1.3.1 in c:\\users\\it\\anaconda3\\envs\\pytorch\\lib\\site-packages (from matplotlib>=3.3.0->ultralytics) (1.4.8)\n",
      "Requirement already satisfied: packaging>=20.0 in c:\\users\\it\\anaconda3\\envs\\pytorch\\lib\\site-packages (from matplotlib>=3.3.0->ultralytics) (25.0)\n",
      "Requirement already satisfied: pyparsing>=2.3.1 in c:\\users\\it\\anaconda3\\envs\\pytorch\\lib\\site-packages (from matplotlib>=3.3.0->ultralytics) (3.2.0)\n",
      "Requirement already satisfied: python-dateutil>=2.7 in c:\\users\\it\\anaconda3\\envs\\pytorch\\lib\\site-packages (from matplotlib>=3.3.0->ultralytics) (2.9.0.post0)\n",
      "Requirement already satisfied: six>=1.5 in c:\\users\\it\\anaconda3\\envs\\pytorch\\lib\\site-packages (from python-dateutil>=2.7->matplotlib>=3.3.0->ultralytics) (1.17.0)\n",
      "Requirement already satisfied: filelock in c:\\users\\it\\anaconda3\\envs\\pytorch\\lib\\site-packages (from torch>=1.8.0->ultralytics) (3.19.1)\n",
      "Requirement already satisfied: typing-extensions>=4.10.0 in c:\\users\\it\\anaconda3\\envs\\pytorch\\lib\\site-packages (from torch>=1.8.0->ultralytics) (4.14.1)\n",
      "Requirement already satisfied: sympy>=1.13.3 in c:\\users\\it\\anaconda3\\envs\\pytorch\\lib\\site-packages (from torch>=1.8.0->ultralytics) (1.14.0)\n",
      "Requirement already satisfied: networkx in c:\\users\\it\\anaconda3\\envs\\pytorch\\lib\\site-packages (from torch>=1.8.0->ultralytics) (3.4.2)\n",
      "Requirement already satisfied: jinja2 in c:\\users\\it\\anaconda3\\envs\\pytorch\\lib\\site-packages (from torch>=1.8.0->ultralytics) (3.1.6)\n",
      "Requirement already satisfied: fsspec in c:\\users\\it\\anaconda3\\envs\\pytorch\\lib\\site-packages (from torch>=1.8.0->ultralytics) (2025.9.0)\n",
      "Requirement already satisfied: mpmath<1.4,>=1.1.0 in c:\\users\\it\\anaconda3\\envs\\pytorch\\lib\\site-packages (from sympy>=1.13.3->torch>=1.8.0->ultralytics) (1.3.0)\n",
      "Requirement already satisfied: MarkupSafe>=2.0 in c:\\users\\it\\anaconda3\\envs\\pytorch\\lib\\site-packages (from jinja2->torch>=1.8.0->ultralytics) (3.0.2)\n",
      "Requirement already satisfied: polars-runtime-32==1.34.0 in c:\\users\\it\\anaconda3\\envs\\pytorch\\lib\\site-packages (from polars->ultralytics) (1.34.0)\n",
      "Downloading pathlib-1.0.1-py3-none-any.whl (14 kB)\n",
      "Installing collected packages: pathlib\n",
      "Successfully installed pathlib-1.0.1\n"
     ]
    }
   ],
   "execution_count": 3
  },
  {
   "cell_type": "code",
   "source": [
    "# 4. Ultralytics 환경 확인\n",
    "from IPython.display import display, Image\n",
    "from IPython import display\n",
    "display.clear_output()\n",
    "!yolo checks"
   ],
   "metadata": {
    "id": "NkcGv8WWzg38"
   },
   "execution_count": 4,
   "outputs": [
    {
     "name": "stdout",
     "output_type": "stream",
     "text": [
      "\u001B[2K\n",
      "\u001B[2K\n",
      "Ultralytics 8.3.214  Python-3.10.18 torch-2.8.0+cpu CPU (Intel Core i5-10400 2.90GHz)\n",
      "Setup complete  (12 CPUs, 15.7 GB RAM, 193.5/232.2 GB disk)\n",
      "\n",
      "OS                     Windows-10-10.0.19045-SP0\n",
      "Environment            Windows\n",
      "Python                 3.10.18\n",
      "Install                pip\n",
      "Path                   C:\\Users\\it\\anaconda3\\envs\\pytorch\\Lib\\site-packages\\ultralytics\n",
      "RAM                    15.65 GB\n",
      "Disk                   193.5/232.2 GB\n",
      "CPU                    Intel Core i5-10400 2.90GHz\n",
      "CPU count              12\n",
      "GPU                    None\n",
      "GPU count              None\n",
      "CUDA                   None\n",
      "\n",
      "numpy                   2.0.1>=1.23.0\n",
      "matplotlib              3.10.6>=3.3.0\n",
      "opencv-python           4.12.0.88>=4.6.0\n",
      "pillow                  11.1.0>=7.1.2\n",
      "pyyaml                  6.0.2>=5.3.1\n",
      "requests                2.32.5>=2.23.0\n",
      "scipy                   1.15.3>=1.4.1\n",
      "torch                   2.8.0>=1.8.0\n",
      "torch                   2.8.0!=2.4.0,>=1.8.0; sys_platform == \"win32\"\n",
      "torchvision             0.23.0>=0.9.0\n",
      "psutil                  7.0.0\n",
      "polars                  1.34.0\n",
      "ultralytics-thop        2.0.17>=2.0.0\n"
     ]
    }
   ]
  },
  {
   "cell_type": "code",
   "source": [
    "import requests\n",
    "from pathlib import Path\n",
    "\n",
    "# 5. 데이터셋 다운로드\n",
    "url = \"https://public.roboflow.com/ds/csaXb5Dicq?key=6xq5P1FIPU\"\n",
    "zip_path = base_path / \"Aquarium_DataSet.zip\"\n",
    "\n",
    "if not zip_path.exists():\n",
    "    print(f\"데이터셋을 다운로드합니다...URL: {url}저장 위치: {zip_path}\")\n",
    "    try:\n",
    "        response = requests.get(url, stream=True, timeout=30)\n",
    "        response.raise_for_status()\n",
    "        with open(zip_path, \"wb\") as f:\n",
    "            for chunk in response.iter_content(chunk_size=8192):\n",
    "                f.write(chunk)\n",
    "        print(\"데이터셋 다운로드 완료.\")\n",
    "    except requests.exceptions.RequestException as e:\n",
    "        print(f\"데이터셋 다운로드 중 오류 발생: {e}\")\n",
    "else:\n",
    "    print(f\"데이터셋이 이미 존재합니다: {zip_path}\")"
   ],
   "metadata": {
    "id": "LEfWMI88zg60",
    "ExecuteTime": {
     "end_time": "2025-10-16T00:23:09.516522Z",
     "start_time": "2025-10-16T00:23:09.416279Z"
    }
   },
   "outputs": [
    {
     "name": "stdout",
     "output_type": "stream",
     "text": [
      "데이터셋이 이미 존재합니다: C:\\Users\\it\\Documents\\Python-workspace\\Ai-ML-DL-workspace-0930\\memo\\3-3-Yolov8\\Aquarium_DataSet.zip\n"
     ]
    }
   ],
   "execution_count": 5
  },
  {
   "cell_type": "code",
   "source": [
    "import zipfile\n",
    "from pathlib import Path\n",
    "\n",
    "# 6. 데이터셋 압축 해제\n",
    "zip_path = base_path / \"Aquarium_DataSet.zip\"\n",
    "extract_path = base_path / \"Aquarium_DataSet\"\n",
    "\n",
    "extract_path.mkdir(parents=True, exist_ok=True)\n",
    "\n",
    "try:\n",
    "    with zipfile.ZipFile(zip_path, 'r') as zip_ref:\n",
    "        zip_ref.extractall(extract_path)\n",
    "    print(f\"데이터셋 압축 해제가 완료되었습니다. 폴더 경로: {extract_path}\")\n",
    "except FileNotFoundError:\n",
    "    print(f\"오류: 압축할 파일을 찾을 수 없습니다 - {zip_path}\")\n",
    "    print(\"이전 5번 셀에서 데이터셋이 정상적으로 다운로드되었는지 확인하세요.\")\n",
    "except zipfile.BadZipFile:\n",
    "    print(f\"오류: ZIP 파일이 손상되었거나 올바른 ZIP 파일이 아닙니다. - {zip_path}\")\n",
    "    print(\"파일을 삭제하고 5번 셀부터 다시 실행하여 다운로드해 보세요.\")"
   ],
   "metadata": {
    "id": "QFNm3abSzg9a",
    "ExecuteTime": {
     "end_time": "2025-10-16T00:23:10.425920Z",
     "start_time": "2025-10-16T00:23:09.529102Z"
    }
   },
   "outputs": [
    {
     "name": "stdout",
     "output_type": "stream",
     "text": [
      "데이터셋 압축 해제가 완료되었습니다. 폴더 경로: C:\\Users\\it\\Documents\\Python-workspace\\Ai-ML-DL-workspace-0930\\memo\\3-3-Yolov8\\Aquarium_DataSet\n"
     ]
    }
   ],
   "execution_count": 6
  },
  {
   "cell_type": "code",
   "source": [
    "from pathlib import Path\n",
    "import yaml\n",
    "\n",
    "# 7. data.yaml 파일 경로 수정 및 새 파일 생성\n",
    "original_yaml_path = extract_path / \"data.yaml\"\n",
    "new_yaml_path = base_path / \"Aquarium_DataSet_Corrected.yaml\"\n",
    "\n",
    "if original_yaml_path.exists():\n",
    "    with open(original_yaml_path, 'r', encoding='utf-8') as f:\n",
    "        data = yaml.safe_load(f)\n",
    "        print(\"--- 원본 data.yaml 내용 ---\")\n",
    "        print(data)\n",
    "\n",
    "    # pathlib을 사용하여 경로를 절대 경로로, 슬래시로 통일하여 수정\n",
    "    data['train'] = str(extract_path / 'train' / 'images')\n",
    "    data['val'] = str(extract_path / 'valid' / 'images')\n",
    "    data['test'] = str(extract_path / 'test' / 'images')\n",
    "\n",
    "    # 수정된 내용으로 새 YAML 파일 작성\n",
    "    with open(new_yaml_path, 'w', encoding='utf-8') as f:\n",
    "        yaml.dump(data, f, allow_unicode=True, sort_keys=False)\n",
    "\n",
    "    print(\"--- 경로가 수정된 data.yaml 내용 ---\")\n",
    "    print(data)\n",
    "    print(f\"수정된 YAML 파일이 다음 경로에 저장되었습니다: {new_yaml_path}\")\n",
    "else:\n",
    "    print(f\"원본 data.yaml 파일을 찾을 수 없어 경로 수정에 실패했습니다: {original_yaml_path}\")"
   ],
   "metadata": {
    "id": "BQ9lEt8a8RQr",
    "ExecuteTime": {
     "end_time": "2025-10-16T00:23:10.519164Z",
     "start_time": "2025-10-16T00:23:10.461442Z"
    }
   },
   "outputs": [
    {
     "name": "stdout",
     "output_type": "stream",
     "text": [
      "--- 원본 data.yaml 내용 ---\n",
      "{'train': '../train/images', 'val': '../valid/images', 'test': '../test/images', 'nc': 7, 'names': ['fish', 'jellyfish', 'penguin', 'puffin', 'shark', 'starfish', 'stingray'], 'roboflow': {'workspace': 'brad-dwyer', 'project': 'aquarium-combined', 'version': 2, 'license': 'CC BY 4.0', 'url': 'https://universe.roboflow.com/brad-dwyer/aquarium-combined/dataset/2'}}\n",
      "--- 경로가 수정된 data.yaml 내용 ---\n",
      "{'train': 'C:\\\\Users\\\\it\\\\Documents\\\\Python-workspace\\\\Ai-ML-DL-workspace-0930\\\\memo\\\\3-3-Yolov8\\\\Aquarium_DataSet\\\\train\\\\images', 'val': 'C:\\\\Users\\\\it\\\\Documents\\\\Python-workspace\\\\Ai-ML-DL-workspace-0930\\\\memo\\\\3-3-Yolov8\\\\Aquarium_DataSet\\\\valid\\\\images', 'test': 'C:\\\\Users\\\\it\\\\Documents\\\\Python-workspace\\\\Ai-ML-DL-workspace-0930\\\\memo\\\\3-3-Yolov8\\\\Aquarium_DataSet\\\\test\\\\images', 'nc': 7, 'names': ['fish', 'jellyfish', 'penguin', 'puffin', 'shark', 'starfish', 'stingray'], 'roboflow': {'workspace': 'brad-dwyer', 'project': 'aquarium-combined', 'version': 2, 'license': 'CC BY 4.0', 'url': 'https://universe.roboflow.com/brad-dwyer/aquarium-combined/dataset/2'}}\n",
      "수정된 YAML 파일이 다음 경로에 저장되었습니다: C:\\Users\\it\\Documents\\Python-workspace\\Ai-ML-DL-workspace-0930\\memo\\3-3-Yolov8\\Aquarium_DataSet_Corrected.yaml\n"
     ]
    }
   ],
   "execution_count": 7
  },
  {
   "cell_type": "code",
   "source": [
    "import requests\n",
    "from pathlib import Path\n",
    "\n",
    "# 8. 사전 학습된 YOLOv8 모델 다운로드\n",
    "model_path = base_path / \"yolov8n.pt\"\n",
    "model_url = \"https://github.com/ultralytics/assets/releases/download/v8.3.0/yolov8n.pt\"\n",
    "\n",
    "if not model_path.exists():\n",
    "    print(f\"사전 학습된 모델을 다운로드합니다...URL: {model_url}저장 위치: {model_path}\")\n",
    "    try:\n",
    "        response = requests.get(model_url, stream=True, timeout=30)\n",
    "        response.raise_for_status()\n",
    "        with open(model_path, \"wb\") as f:\n",
    "            for chunk in response.iter_content(chunk_size=8192):\n",
    "                f.write(chunk)\n",
    "        print(\"모델 다운로드 완료.\")\n",
    "    except requests.exceptions.RequestException as e:\n",
    "        print(f\"모델 다운로드 중 오류 발생: {e}\")\n",
    "else:\n",
    "    print(f\"모델이 이미 존재합니다: {model_path}\")"
   ],
   "metadata": {
    "id": "new_model_download_cell",
    "ExecuteTime": {
     "end_time": "2025-10-16T00:23:10.534165Z",
     "start_time": "2025-10-16T00:23:10.526165Z"
    }
   },
   "outputs": [
    {
     "name": "stdout",
     "output_type": "stream",
     "text": [
      "모델이 이미 존재합니다: C:\\Users\\it\\Documents\\Python-workspace\\Ai-ML-DL-workspace-0930\\memo\\3-3-Yolov8\\yolov8n.pt\n"
     ]
    }
   ],
   "execution_count": 8
  },
  {
   "cell_type": "code",
   "source": [
    "from ultralytics import YOLO\n",
    "from pathlib import Path\n",
    "\n",
    "# 9. 로컬 모델 파일 로드\n",
    "model_path = base_path / \"yolov8n.pt\"\n",
    "\n",
    "if model_path.exists():\n",
    "    model = YOLO(model_path)\n",
    "    print(f\"사전 학습된 모델을 성공적으로 로드했습니다: {model_path}\")\n",
    "else:\n",
    "    print(f\"오류: 모델 파일을 찾을 수 없습니다. - {model_path}\")\n",
    "    print(\"8번 셀에서 모델이 정상적으로 다운로드되었는지 확인하세요.\")"
   ],
   "metadata": {
    "id": "O9YBz7qv-Mep",
    "ExecuteTime": {
     "end_time": "2025-10-16T00:23:10.955270Z",
     "start_time": "2025-10-16T00:23:10.544824Z"
    }
   },
   "outputs": [
    {
     "name": "stdout",
     "output_type": "stream",
     "text": [
      "사전 학습된 모델을 성공적으로 로드했습니다: C:\\Users\\it\\Documents\\Python-workspace\\Ai-ML-DL-workspace-0930\\memo\\3-3-Yolov8\\yolov8n.pt\n"
     ]
    }
   ],
   "execution_count": 9
  },
  {
   "cell_type": "code",
   "source": [
    "# 10. 모델 학습 실행\n",
    "if 'model' in locals():\n",
    "    results = model.train(\n",
    "        data=str(new_yaml_path), # pathlib 객체를 문자열로 변환\n",
    "        epochs=100,\n",
    "        patience=30,\n",
    "        batch=32,\n",
    "        imgsz=416,\n",
    "        project=str(base_path), # pathlib 객체를 문자열로 변환\n",
    "        name='Aquarium_model_results',\n",
    "        exist_ok=True\n",
    "    )\n",
    "    print(\"모델 학습이 완료되었습니다.\")\n",
    "else:\n",
    "    print(\"모델이 정상적으로 로드되지 않아 학습을 시작할 수 없습니다.\")"
   ],
   "metadata": {
    "id": "7nfmtcXc-MkL",
    "jupyter": {
     "is_executing": true
    },
    "ExecuteTime": {
     "start_time": "2025-10-16T00:23:10.968271Z"
    }
   },
   "outputs": [
    {
     "name": "stdout",
     "output_type": "stream",
     "text": [
      "Ultralytics 8.3.214  Python-3.10.18 torch-2.8.0+cpu CPU (Intel Core i5-10400 2.90GHz)\n",
      "\u001B[34m\u001B[1mengine\\trainer: \u001B[0magnostic_nms=False, amp=True, augment=False, auto_augment=randaugment, batch=32, bgr=0.0, box=7.5, cache=False, cfg=None, classes=None, close_mosaic=10, cls=0.5, compile=False, conf=None, copy_paste=0.0, copy_paste_mode=flip, cos_lr=False, cutmix=0.0, data=C:\\Users\\it\\Documents\\Python-workspace\\Ai-ML-DL-workspace-0930\\memo\\3-3-Yolov8\\Aquarium_DataSet_Corrected.yaml, degrees=0.0, deterministic=True, device=cpu, dfl=1.5, dnn=False, dropout=0.0, dynamic=False, embed=None, epochs=100, erasing=0.4, exist_ok=True, fliplr=0.5, flipud=0.0, format=torchscript, fraction=1.0, freeze=None, half=False, hsv_h=0.015, hsv_s=0.7, hsv_v=0.4, imgsz=416, int8=False, iou=0.7, keras=False, kobj=1.0, line_width=None, lr0=0.01, lrf=0.01, mask_ratio=4, max_det=300, mixup=0.0, mode=train, model=C:\\Users\\it\\Documents\\Python-workspace\\Ai-ML-DL-workspace-0930\\memo\\3-3-Yolov8\\yolov8n.pt, momentum=0.937, mosaic=1.0, multi_scale=False, name=Aquarium_model_results, nbs=64, nms=False, opset=None, optimize=False, optimizer=auto, overlap_mask=True, patience=30, perspective=0.0, plots=True, pose=12.0, pretrained=True, profile=False, project=C:\\Users\\it\\Documents\\Python-workspace\\Ai-ML-DL-workspace-0930\\memo\\3-3-Yolov8, rect=False, resume=False, retina_masks=False, save=True, save_conf=False, save_crop=False, save_dir=C:\\Users\\it\\Documents\\Python-workspace\\Ai-ML-DL-workspace-0930\\memo\\3-3-Yolov8\\Aquarium_model_results, save_frames=False, save_json=False, save_period=-1, save_txt=False, scale=0.5, seed=0, shear=0.0, show=False, show_boxes=True, show_conf=True, show_labels=True, simplify=True, single_cls=False, source=None, split=val, stream_buffer=False, task=detect, time=None, tracker=botsort.yaml, translate=0.1, val=True, verbose=True, vid_stride=1, visualize=False, warmup_bias_lr=0.1, warmup_epochs=3.0, warmup_momentum=0.8, weight_decay=0.0005, workers=8, workspace=None\n",
      "Overriding model.yaml nc=80 with nc=7\n",
      "\n",
      "                   from  n    params  module                                       arguments                     \n",
      "  0                  -1  1       464  ultralytics.nn.modules.conv.Conv             [3, 16, 3, 2]                 \n",
      "  1                  -1  1      4672  ultralytics.nn.modules.conv.Conv             [16, 32, 3, 2]                \n",
      "  2                  -1  1      7360  ultralytics.nn.modules.block.C2f             [32, 32, 1, True]             \n",
      "  3                  -1  1     18560  ultralytics.nn.modules.conv.Conv             [32, 64, 3, 2]                \n",
      "  4                  -1  2     49664  ultralytics.nn.modules.block.C2f             [64, 64, 2, True]             \n",
      "  5                  -1  1     73984  ultralytics.nn.modules.conv.Conv             [64, 128, 3, 2]               \n",
      "  6                  -1  2    197632  ultralytics.nn.modules.block.C2f             [128, 128, 2, True]           \n",
      "  7                  -1  1    295424  ultralytics.nn.modules.conv.Conv             [128, 256, 3, 2]              \n",
      "  8                  -1  1    460288  ultralytics.nn.modules.block.C2f             [256, 256, 1, True]           \n",
      "  9                  -1  1    164608  ultralytics.nn.modules.block.SPPF            [256, 256, 5]                 \n",
      " 10                  -1  1         0  torch.nn.modules.upsampling.Upsample         [None, 2, 'nearest']          \n",
      " 11             [-1, 6]  1         0  ultralytics.nn.modules.conv.Concat           [1]                           \n",
      " 12                  -1  1    148224  ultralytics.nn.modules.block.C2f             [384, 128, 1]                 \n",
      " 13                  -1  1         0  torch.nn.modules.upsampling.Upsample         [None, 2, 'nearest']          \n",
      " 14             [-1, 4]  1         0  ultralytics.nn.modules.conv.Concat           [1]                           \n",
      " 15                  -1  1     37248  ultralytics.nn.modules.block.C2f             [192, 64, 1]                  \n",
      " 16                  -1  1     36992  ultralytics.nn.modules.conv.Conv             [64, 64, 3, 2]                \n",
      " 17            [-1, 12]  1         0  ultralytics.nn.modules.conv.Concat           [1]                           \n",
      " 18                  -1  1    123648  ultralytics.nn.modules.block.C2f             [192, 128, 1]                 \n",
      " 19                  -1  1    147712  ultralytics.nn.modules.conv.Conv             [128, 128, 3, 2]              \n",
      " 20             [-1, 9]  1         0  ultralytics.nn.modules.conv.Concat           [1]                           \n",
      " 21                  -1  1    493056  ultralytics.nn.modules.block.C2f             [384, 256, 1]                 \n",
      " 22        [15, 18, 21]  1    752677  ultralytics.nn.modules.head.Detect           [7, [64, 128, 256]]           \n",
      "Model summary: 129 layers, 3,012,213 parameters, 3,012,197 gradients, 8.2 GFLOPs\n",
      "\n",
      "Transferred 319/355 items from pretrained weights\n",
      "Freezing layer 'model.22.dfl.conv.weight'\n",
      "\u001B[34m\u001B[1mtrain: \u001B[0mFast image access  (ping: 0.10.0 ms, read: 15.57.3 MB/s, size: 99.8 KB)\n",
      "\u001B[K\u001B[34m\u001B[1mtrain: \u001B[0mScanning C:\\Users\\it\\Documents\\Python-workspace\\Ai-ML-DL-workspace-0930\\memo\\3-3-Yolov8\\Aquarium_DataSet\\train\\labels.cache... 448 images, 1 backgrounds, 0 corrupt: 100% ━━━━━━━━━━━━ 448/448 448.5Kit/s 0.0s\n",
      "\u001B[34m\u001B[1mval: \u001B[0mFast image access  (ping: 0.10.0 ms, read: 13.13.0 MB/s, size: 91.3 KB)\n",
      "\u001B[K\u001B[34m\u001B[1mval: \u001B[0mScanning C:\\Users\\it\\Documents\\Python-workspace\\Ai-ML-DL-workspace-0930\\memo\\3-3-Yolov8\\Aquarium_DataSet\\valid\\labels.cache... 127 images, 0 backgrounds, 0 corrupt: 100% ━━━━━━━━━━━━ 127/127  0.0s\n",
      "Plotting labels to C:\\Users\\it\\Documents\\Python-workspace\\Ai-ML-DL-workspace-0930\\memo\\3-3-Yolov8\\Aquarium_model_results\\labels.jpg... \n"
     ]
    }
   ],
   "execution_count": null
  }
 ]
}
