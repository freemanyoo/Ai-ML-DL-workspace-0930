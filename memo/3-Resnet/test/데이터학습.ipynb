{
 "cells": [
  {
   "metadata": {
    "ExecuteTime": {
     "end_time": "2025-10-10T06:23:19.045340Z",
     "start_time": "2025-10-10T06:23:15.178422Z"
    }
   },
   "cell_type": "code",
   "source": [
    "import torch\n",
    "import torchvision\n",
    "import torchvision.transforms as transforms\n",
    "import torchvision.datasets as datasets\n",
    "from torch.utils.data import DataLoader, random_split, Subset\n",
    "from PIL import Image\n",
    "from copy import deepcopy\n",
    "\n",
    "# ✅ 데이터 경로 설정\n",
    "data_dir = \"C:\\\\Users\\\\it\\\\Documents\\\\Python-workspace\\\\Ai-ML-DL-workspace-0930\\\\memo\\\\3-Resnet\\\\test\\\\class\\\\\"\n",
    "\n",
    "\n",
    "def is_valid_file(path):\n",
    "    try:\n",
    "        with Image.open(path) as img:\n",
    "            img.verify()\n",
    "        return True\n",
    "    except Exception as e:\n",
    "        print(f\"⚠️ 손상되었거나 유효하지 않은 이미지 파일을 건너뜁니다: {path} - {e}\")\n",
    "        return False\n",
    "\n",
    "\n",
    "# --- 변환(Transform) 두 종류로 정의 ---\n",
    "# 1. 학습용 변환 (데이터 증강 포함)\n",
    "transform_train = transforms.Compose([\n",
    "    transforms.RandomRotation(15),\n",
    "    transforms.RandomHorizontalFlip(p=0.5),\n",
    "    transforms.Resize((224, 224)),\n",
    "    transforms.ToTensor(),\n",
    "    transforms.Normalize(mean=[0.485, 0.456, 0.406], std=[0.229, 0.224, 0.225])\n",
    "])\n",
    "# 2. 검증용 변환 (데이터 증강 없음)\n",
    "transform_val = transforms.Compose([\n",
    "    transforms.Resize((224, 224)),\n",
    "    transforms.ToTensor(),\n",
    "    transforms.Normalize(mean=[0.485, 0.456, 0.406], std=[0.229, 0.224, 0.225])\n",
    "])\n",
    "# ------------------------------------\n",
    "\n",
    "# --- 데이터셋을 학습용과 검증용으로 분리 ---\n",
    "# 1. 전체 데이터셋을 불러옵니다.\n",
    "full_dataset = datasets.ImageFolder(root=data_dir, is_valid_file=is_valid_file)\n",
    "\n",
    "# 2. 학습용과 검증용으로 8:2 비율로 나눕니다.\n",
    "train_size = int(0.8 * len(full_dataset))\n",
    "val_size = len(full_dataset) - train_size\n",
    "train_dataset, val_dataset = random_split(full_dataset, [train_size, val_size])\n",
    "\n",
    "# 3. 각 데이터셋에 맞는 변환(transform)을 적용합니다.\n",
    "#    (중요: deepcopy를 사용하여 각 데이터셋이 독립적인 변환을 갖도록 함)\n",
    "train_dataset = deepcopy(train_dataset)\n",
    "train_dataset.dataset.transform = transform_train\n",
    "\n",
    "val_dataset = deepcopy(val_dataset)\n",
    "val_dataset.dataset.transform = transform_val\n",
    "# -----------------------------------------\n",
    "\n",
    "# 데이터 로더 생성\n",
    "train_loader = DataLoader(train_dataset, batch_size=32, shuffle=True)\n",
    "val_loader = DataLoader(val_dataset, batch_size=32, shuffle=False)\n",
    "\n",
    "# 클래스 및 데이터 개수 확인\n",
    "class_names = full_dataset.classes\n",
    "num_classes = len(class_names)\n",
    "print(f\"✅ 클래스 목록: {class_names}\")\n",
    "print(f\"✅ 총 이미지 수: {len(full_dataset)}\")\n",
    "print(f\"✅ 학습 데이터 수: {len(train_dataset)}\")\n",
    "print(f\"✅ 검증 데이터 수: {len(val_dataset)}\")"
   ],
   "id": "9d9018b8590a0dcb",
   "outputs": [
    {
     "name": "stdout",
     "output_type": "stream",
     "text": [
      "⚠️ 손상되었거나 유효하지 않은 이미지 파일을 건너뜁니다: C:\\Users\\it\\Documents\\Python-workspace\\Ai-ML-DL-workspace-0930\\memo\\3-Resnet\\test\\class\\책상_images\\책상_72.jpg - cannot identify image file 'C:\\\\Users\\\\it\\\\Documents\\\\Python-workspace\\\\Ai-ML-DL-workspace-0930\\\\memo\\\\3-Resnet\\\\test\\\\class\\\\책상_images\\\\책상_72.jpg'\n",
      "✅ 클래스 목록: ['의자_images', '책상_images']\n",
      "✅ 총 이미지 수: 493\n",
      "✅ 학습 데이터 수: 394\n",
      "✅ 검증 데이터 수: 99\n"
     ]
    }
   ],
   "execution_count": 1
  },
  {
   "metadata": {
    "ExecuteTime": {
     "end_time": "2025-10-10T06:23:19.076514Z",
     "start_time": "2025-10-10T06:23:19.054857Z"
    }
   },
   "cell_type": "code",
   "source": [
    "import os\n",
    "\n",
    "os.environ['KMP_DUPLICATE_LIB_OK'] = 'True'\n",
    "\n",
    "# 데이터 폴더 경로 설정\n",
    "data_dir = \"C:\\\\Users\\\\it\\\\Documents\\\\Python-workspace\\\\Ai-ML-DL-workspace-0930\\\\memo\\\\3-Resnet\\\\test\\\\class\\\\\"\n",
    "\n",
    "# 폴더 안에 있는 클래스 확인\n",
    "print(\"🔍 데이터셋 폴더 내 클래스 확인:\")\n",
    "print(os.listdir(data_dir))"
   ],
   "id": "8341436cc17e25d3",
   "outputs": [
    {
     "name": "stdout",
     "output_type": "stream",
     "text": [
      "🔍 데이터셋 폴더 내 클래스 확인:\n",
      "['의자_images', '책상_images']\n"
     ]
    }
   ],
   "execution_count": 2
  },
  {
   "metadata": {
    "ExecuteTime": {
     "end_time": "2025-10-10T06:23:19.511004Z",
     "start_time": "2025-10-10T06:23:19.083035Z"
    }
   },
   "cell_type": "code",
   "source": [
    "import torch.nn as nn\n",
    "import torch.optim as optim\n",
    "import torchvision.models as models\n",
    "\n",
    "# ✅ ResNet-50 모델 불러오기 (사전 학습된 모델 사용)\n",
    "model = models.resnet50(pretrained=True)\n",
    "\n",
    "# ✅ 마지막 Fully Connected Layer 변경 (기존 1000 → 데이터셋 클래스 개수)\n",
    "model.fc = nn.Linear(model.fc.in_features, num_classes)\n",
    "\n",
    "# ✅ 모델을 GPU로 이동 (가능한 경우)\n",
    "device = torch.device(\"cuda\" if torch.cuda.is_available() else \"cpu\")\n",
    "model.to(device)\n",
    "\n",
    "# 최적화 함수 및 손실 함수\n",
    "criterion = nn.CrossEntropyLoss()\n",
    "optimizer = optim.Adam(model.parameters(), lr=0.001)\n"
   ],
   "id": "27d968d8dd025775",
   "outputs": [
    {
     "name": "stderr",
     "output_type": "stream",
     "text": [
      "C:\\Users\\it\\anaconda3\\envs\\Pytorch\\lib\\site-packages\\torchvision\\models\\_utils.py:208: UserWarning: The parameter 'pretrained' is deprecated since 0.13 and may be removed in the future, please use 'weights' instead.\n",
      "  warnings.warn(\n",
      "C:\\Users\\it\\anaconda3\\envs\\Pytorch\\lib\\site-packages\\torchvision\\models\\_utils.py:223: UserWarning: Arguments other than a weight enum or `None` for 'weights' are deprecated since 0.13 and may be removed in the future. The current behavior is equivalent to passing `weights=ResNet50_Weights.IMAGENET1K_V1`. You can also use `weights=ResNet50_Weights.DEFAULT` to get the most up-to-date weights.\n",
      "  warnings.warn(msg)\n"
     ]
    }
   ],
   "execution_count": 3
  },
  {
   "metadata": {
    "ExecuteTime": {
     "end_time": "2025-10-10T06:46:00.178803Z",
     "start_time": "2025-10-10T06:23:19.525518Z"
    }
   },
   "cell_type": "code",
   "source": [
    "import copy  # 모델의 state_dict를 복사하기 위해 import\n",
    "\n",
    "num_epochs = 15  # 학습 횟수를 15~20회로 늘려 최고점을 찾을 기회를 더 줍니다.\n",
    "best_val_accuracy = 0.0  # 최고 검증 정확도를 저장할 변수\n",
    "best_model_wts = None  # 최고 성능일 때의 모델 가중치를 저장할 변수\n",
    "\n",
    "print(\"🚀 모델 학습 시작...\")\n",
    "\n",
    "for epoch in range(num_epochs):\n",
    "    # --- 학습 단계 ---\n",
    "    model.train()\n",
    "    running_loss = 0.0\n",
    "    for i, (images, labels) in enumerate(train_loader):\n",
    "        images, labels = images.to(device), labels.to(device)\n",
    "        optimizer.zero_grad()\n",
    "        outputs = model(images)\n",
    "        loss = criterion(outputs, labels)\n",
    "        loss.backward()\n",
    "        optimizer.step()\n",
    "        running_loss += loss.item()\n",
    "        if (i + 1) % 5 == 0:\n",
    "            print(\n",
    "                f\"Epoch [{epoch + 1}/{num_epochs}], Step [{i + 1}/{len(train_loader)}], Train Loss: {running_loss / 5:.4f}\")\n",
    "            running_loss = 0.0\n",
    "\n",
    "    # --- 검증 단계 ---\n",
    "    model.eval()\n",
    "    val_loss = 0.0\n",
    "    correct = 0\n",
    "    total = 0\n",
    "    with torch.no_grad():\n",
    "        for images, labels in val_loader:\n",
    "            images, labels = images.to(device), labels.to(device)\n",
    "            outputs = model(images)\n",
    "            loss = criterion(outputs, labels)\n",
    "            val_loss += loss.item()\n",
    "            _, predicted = torch.max(outputs.data, 1)\n",
    "            total += labels.size(0)\n",
    "            correct += (predicted == labels).sum().item()\n",
    "\n",
    "    val_accuracy = 100 * correct / total\n",
    "    print(f\"\\nEpoch [{epoch + 1}/{num_epochs}] COMPLETE\")\n",
    "    print(f\"Validation Loss: {val_loss / len(val_loader):.4f} | Validation Accuracy: {val_accuracy:.2f} %\")\n",
    "\n",
    "    # --- 최고 성능 모델 저장 ---\n",
    "    if val_accuracy > best_val_accuracy:\n",
    "        best_val_accuracy = val_accuracy\n",
    "        best_model_wts = copy.deepcopy(model.state_dict())  # 현재 모델의 가중치를 복사하여 저장\n",
    "        print(f\"🎉 최고 정확도 경신: {best_val_accuracy:.2f} %! 모델을 저장합니다.\")\n",
    "    print(\"-\" * 30)\n",
    "\n",
    "# --- 학습 종료 후 최고 성능 모델 저장 ---\n",
    "if best_model_wts:\n",
    "    model.load_state_dict(best_model_wts)  # 가장 성능이 좋았던 가중치로 모델을 복원\n",
    "    model_path = \"C:\\\\Users\\\\it\\\\Documents\\\\Python-workspace\\\\Ai-ML-DL-workspace-0930\\\\memo\\\\3-Resnet\\\\test\\\\best_model.pth\"\n",
    "    torch.save(model.state_dict(), model_path)\n",
    "    print(f\"\\n✅ 최종 최고 성능 모델 저장 완료!\")\n",
    "    print(f\"   - 경로: {model_path}\")\n",
    "    print(f\"   - 최고 검증 정확도: {best_val_accuracy:.2f} %\")"
   ],
   "id": "8e543f5f2feb2ce4",
   "outputs": [
    {
     "name": "stdout",
     "output_type": "stream",
     "text": [
      "🚀 모델 학습 시작...\n"
     ]
    },
    {
     "name": "stderr",
     "output_type": "stream",
     "text": [
      "C:\\Users\\it\\anaconda3\\envs\\Pytorch\\lib\\site-packages\\PIL\\Image.py:1045: UserWarning: Palette images with Transparency expressed in bytes should be converted to RGBA images\n",
      "  warnings.warn(\n"
     ]
    },
    {
     "name": "stdout",
     "output_type": "stream",
     "text": [
      "Epoch [1/15], Step [5/13], Train Loss: 0.8160\n",
      "Epoch [1/15], Step [10/13], Train Loss: 0.7151\n",
      "\n",
      "Epoch [1/15] COMPLETE\n",
      "Validation Loss: 475.4897 | Validation Accuracy: 66.67 %\n",
      "🎉 최고 정확도 경신: 66.67 %! 모델을 저장합니다.\n",
      "------------------------------\n",
      "Epoch [2/15], Step [5/13], Train Loss: 0.5955\n",
      "Epoch [2/15], Step [10/13], Train Loss: 0.5815\n",
      "\n",
      "Epoch [2/15] COMPLETE\n",
      "Validation Loss: 2.2907 | Validation Accuracy: 64.65 %\n",
      "------------------------------\n",
      "Epoch [3/15], Step [5/13], Train Loss: 0.5778\n",
      "Epoch [3/15], Step [10/13], Train Loss: 0.5853\n",
      "\n",
      "Epoch [3/15] COMPLETE\n",
      "Validation Loss: 0.5754 | Validation Accuracy: 74.75 %\n",
      "🎉 최고 정확도 경신: 74.75 %! 모델을 저장합니다.\n",
      "------------------------------\n",
      "Epoch [4/15], Step [5/13], Train Loss: 0.4705\n",
      "Epoch [4/15], Step [10/13], Train Loss: 0.4502\n",
      "\n",
      "Epoch [4/15] COMPLETE\n",
      "Validation Loss: 0.8402 | Validation Accuracy: 77.78 %\n",
      "🎉 최고 정확도 경신: 77.78 %! 모델을 저장합니다.\n",
      "------------------------------\n",
      "Epoch [5/15], Step [5/13], Train Loss: 0.4276\n",
      "Epoch [5/15], Step [10/13], Train Loss: 0.4317\n",
      "\n",
      "Epoch [5/15] COMPLETE\n",
      "Validation Loss: 1.2743 | Validation Accuracy: 73.74 %\n",
      "------------------------------\n",
      "Epoch [6/15], Step [5/13], Train Loss: 0.4633\n",
      "Epoch [6/15], Step [10/13], Train Loss: 0.4343\n",
      "\n",
      "Epoch [6/15] COMPLETE\n",
      "Validation Loss: 0.5990 | Validation Accuracy: 78.79 %\n",
      "🎉 최고 정확도 경신: 78.79 %! 모델을 저장합니다.\n",
      "------------------------------\n",
      "Epoch [7/15], Step [5/13], Train Loss: 0.4605\n",
      "Epoch [7/15], Step [10/13], Train Loss: 0.3953\n",
      "\n",
      "Epoch [7/15] COMPLETE\n",
      "Validation Loss: 0.5084 | Validation Accuracy: 76.77 %\n",
      "------------------------------\n",
      "Epoch [8/15], Step [5/13], Train Loss: 0.4441\n",
      "Epoch [8/15], Step [10/13], Train Loss: 0.4480\n",
      "\n",
      "Epoch [8/15] COMPLETE\n",
      "Validation Loss: 0.4436 | Validation Accuracy: 79.80 %\n",
      "🎉 최고 정확도 경신: 79.80 %! 모델을 저장합니다.\n",
      "------------------------------\n",
      "Epoch [9/15], Step [5/13], Train Loss: 0.3782\n",
      "Epoch [9/15], Step [10/13], Train Loss: 0.4403\n",
      "\n",
      "Epoch [9/15] COMPLETE\n",
      "Validation Loss: 0.9008 | Validation Accuracy: 62.63 %\n",
      "------------------------------\n",
      "Epoch [10/15], Step [5/13], Train Loss: 0.4246\n",
      "Epoch [10/15], Step [10/13], Train Loss: 0.4279\n",
      "\n",
      "Epoch [10/15] COMPLETE\n",
      "Validation Loss: 0.7329 | Validation Accuracy: 79.80 %\n",
      "------------------------------\n",
      "Epoch [11/15], Step [5/13], Train Loss: 0.4597\n",
      "Epoch [11/15], Step [10/13], Train Loss: 0.4453\n",
      "\n",
      "Epoch [11/15] COMPLETE\n",
      "Validation Loss: 0.5529 | Validation Accuracy: 74.75 %\n",
      "------------------------------\n",
      "Epoch [12/15], Step [5/13], Train Loss: 0.3932\n",
      "Epoch [12/15], Step [10/13], Train Loss: 0.3917\n",
      "\n",
      "Epoch [12/15] COMPLETE\n",
      "Validation Loss: 0.4016 | Validation Accuracy: 78.79 %\n",
      "------------------------------\n",
      "Epoch [13/15], Step [5/13], Train Loss: 0.3334\n",
      "Epoch [13/15], Step [10/13], Train Loss: 0.3893\n",
      "\n",
      "Epoch [13/15] COMPLETE\n",
      "Validation Loss: 0.3995 | Validation Accuracy: 80.81 %\n",
      "🎉 최고 정확도 경신: 80.81 %! 모델을 저장합니다.\n",
      "------------------------------\n",
      "Epoch [14/15], Step [5/13], Train Loss: 0.2969\n",
      "Epoch [14/15], Step [10/13], Train Loss: 0.3233\n",
      "\n",
      "Epoch [14/15] COMPLETE\n",
      "Validation Loss: 0.4894 | Validation Accuracy: 74.75 %\n",
      "------------------------------\n",
      "Epoch [15/15], Step [5/13], Train Loss: 0.2703\n",
      "Epoch [15/15], Step [10/13], Train Loss: 0.4102\n",
      "\n",
      "Epoch [15/15] COMPLETE\n",
      "Validation Loss: 0.5410 | Validation Accuracy: 78.79 %\n",
      "------------------------------\n",
      "\n",
      "✅ 최종 최고 성능 모델 저장 완료!\n",
      "   - 경로: C:\\Users\\it\\Documents\\Python-workspace\\Ai-ML-DL-workspace-0930\\memo\\3-Resnet\\test\\best_model.pth\n",
      "   - 최고 검증 정확도: 80.81 %\n"
     ]
    }
   ],
   "execution_count": 4
  },
  {
   "metadata": {
    "ExecuteTime": {
     "end_time": "2025-10-10T06:46:02.767127Z",
     "start_time": "2025-10-10T06:46:02.664754Z"
    }
   },
   "cell_type": "code",
   "source": [
    "model_path = \"C:\\\\Users\\\\it\\\\Documents\\\\Python-workspace\\\\Ai-ML-DL-workspace-0930\\\\memo\\\\3-Resnet\\\\test\\\\resnet50-251010_model.pth\"\n",
    "torch.save(model.state_dict(), model_path)\n",
    "print(f\"✅ 학습된 모델이 저장되었습니다: {model_path}\")\n",
    "\n"
   ],
   "id": "b9030631d8d3d1db",
   "outputs": [
    {
     "name": "stdout",
     "output_type": "stream",
     "text": [
      "✅ 학습된 모델이 저장되었습니다: C:\\Users\\it\\Documents\\Python-workspace\\Ai-ML-DL-workspace-0930\\memo\\3-Resnet\\test\\resnet50-251010_model.pth\n"
     ]
    }
   ],
   "execution_count": 5
  },
  {
   "metadata": {
    "ExecuteTime": {
     "end_time": "2025-10-10T06:46:03.232457Z",
     "start_time": "2025-10-10T06:46:02.778092Z"
    }
   },
   "cell_type": "code",
   "source": [
    "\n",
    "def load_model(model_path, num_classes):\n",
    "    model = models.resnet50(pretrained=False)  # 새 모델 생성\n",
    "    model.fc = nn.Linear(model.fc.in_features, num_classes)  # Fully Connected Layer 맞춤 설정\n",
    "    model.load_state_dict(torch.load(model_path, map_location=torch.device(\"cpu\")))  # CPU에서 로드\n",
    "    model.eval()  # 평가 모드로 설정\n",
    "    return model\n",
    "\n",
    "\n",
    "# ✅ 모델 불러오기\n",
    "loaded_model = load_model(model_path, num_classes)\n",
    "print(\"✅ 모델이 성공적으로 불러와졌습니다!\")"
   ],
   "id": "2846ab7fa733f1d0",
   "outputs": [
    {
     "name": "stderr",
     "output_type": "stream",
     "text": [
      "C:\\Users\\it\\anaconda3\\envs\\Pytorch\\lib\\site-packages\\torchvision\\models\\_utils.py:223: UserWarning: Arguments other than a weight enum or `None` for 'weights' are deprecated since 0.13 and may be removed in the future. The current behavior is equivalent to passing `weights=None`.\n",
      "  warnings.warn(msg)\n"
     ]
    },
    {
     "name": "stdout",
     "output_type": "stream",
     "text": [
      "✅ 모델이 성공적으로 불러와졌습니다!\n"
     ]
    }
   ],
   "execution_count": 6
  },
  {
   "metadata": {
    "ExecuteTime": {
     "end_time": "2025-10-10T06:46:04.508315Z",
     "start_time": "2025-10-10T06:46:03.261047Z"
    }
   },
   "cell_type": "code",
   "source": [
    "from PIL import Image\n",
    "import matplotlib.pyplot as plt\n",
    "import torch.nn.functional as F\n",
    "\n",
    "\n",
    "def predict_sample(image_path, model, class_names):\n",
    "    \"\"\"\n",
    "       저장된 ResNet-50 모델을 사용하여 샘플 이미지를 예측하는 함수.\n",
    "    \"\"\"\n",
    "    # 이미지 불러오기 및 전처리\n",
    "    image = Image.open(image_path).convert(\"RGB\")\n",
    "    transform = transforms.Compose([\n",
    "        transforms.Resize((224, 224)),\n",
    "        transforms.ToTensor(),\n",
    "        transforms.Normalize(mean=[0.485, 0.456, 0.406], std=[0.229, 0.224, 0.225])  # ResNet 정규화 값\n",
    "    ])\n",
    "    image = transform(image).unsqueeze(0)  # 배치 차원 추가 (1, 3, 224, 224)\n",
    "\n",
    "    # 모델 예측\n",
    "    with torch.no_grad():\n",
    "        output = model(image)\n",
    "        probabilities = F.softmax(output[0], dim=0)  # Softmax 적용\n",
    "        predicted_idx = torch.argmax(probabilities).item()\n",
    "        confidence = probabilities[predicted_idx].item()\n",
    "\n",
    "    # ✅ 결과 출력\n",
    "    plt.imshow(Image.open(image_path))\n",
    "    plt.title(f\"Predicted: {class_names[predicted_idx]} ({confidence * 100:.2f}%)\")\n",
    "    plt.axis('off')\n",
    "    plt.show()\n",
    "\n",
    "    print(f\"🔍 예측된 클래스: {class_names[predicted_idx]}\")\n",
    "    print(f\"📊 정확도: {confidence * 100:.2f}%\")\n",
    "\n",
    "\n",
    "# 🏆 샘플 이미지 경로 입력하여 예측 실행\n",
    "sample_image = \"C:\\\\Users\\\\it\\\\Documents\\\\Python-workspace\\\\Ai-ML-DL-workspace-0930\\\\memo\\\\3-Resnet\\\\test\\\\sample1.png\"\n",
    "predict_sample(sample_image, loaded_model, class_names)\n"
   ],
   "id": "19a72ba0db339dce",
   "outputs": [
    {
     "name": "stderr",
     "output_type": "stream",
     "text": [
      "C:\\Users\\it\\anaconda3\\envs\\Pytorch\\lib\\site-packages\\IPython\\core\\pylabtools.py:170: UserWarning: Glyph 52293 (\\N{HANGUL SYLLABLE CAEG}) missing from font(s) DejaVu Sans.\n",
      "  fig.canvas.print_figure(bytes_io, **kw)\n",
      "C:\\Users\\it\\anaconda3\\envs\\Pytorch\\lib\\site-packages\\IPython\\core\\pylabtools.py:170: UserWarning: Glyph 49345 (\\N{HANGUL SYLLABLE SANG}) missing from font(s) DejaVu Sans.\n",
      "  fig.canvas.print_figure(bytes_io, **kw)\n"
     ]
    },
    {
     "data": {
      "text/plain": [
       "<Figure size 640x480 with 1 Axes>"
      ],
      "image/png": "[encoded data removed]"
     },
     "metadata": {},
     "output_type": "display_data",
     "jetTransient": {
      "display_id": null
     }
    },
    {
     "name": "stdout",
     "output_type": "stream",
     "text": [
      "🔍 예측된 클래스: 책상_images\n",
      "📊 정확도: 68.96%\n"
     ]
    }
   ],
   "execution_count": 7
  },
  {
   "metadata": {
    "ExecuteTime": {
     "end_time": "2025-10-10T06:46:05.254862Z",
     "start_time": "2025-10-10T06:46:05.243831Z"
    }
   },
   "cell_type": "code",
   "source": "",
   "id": "39f74c1fb1aa2cc1",
   "outputs": [],
   "execution_count": null
  }
 ],
 "metadata": {
  "kernelspec": {
   "display_name": "Python 3 (ipykernel)",
   "language": "python",
   "name": "python3"
  },
  "language_info": {
   "codemirror_mode": {
    "name": "ipython",
    "version": 3
   },
   "file_extension": ".py",
   "mimetype": "text/x-python",
   "name": "python",
   "nbconvert_exporter": "python",
   "pygments_lexer": "ipython3",
   "version": "3.10.0"
  }
 },
 "nbformat": 4,
 "nbformat_minor": 5
}
