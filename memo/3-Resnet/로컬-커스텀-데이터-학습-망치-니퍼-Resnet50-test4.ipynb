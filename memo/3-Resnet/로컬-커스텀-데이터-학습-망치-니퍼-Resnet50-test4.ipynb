{
 "cells": [
  {
   "cell_type": "code",
   "source": [
    "# # 압축 해제하는 명령어\n",
    "# !unzip /content/drive/MyDrive/busanit501-1234/train.zip -d /content/drive/MyDrive/busanit501-1234/class/\n"
   ],
   "metadata": {
    "colab": {
     "base_uri": "https://localhost:8080/"
    },
    "id": "_z3JNgY69YsW",
    "executionInfo": {
     "status": "ok",
     "timestamp": 1742279976563,
     "user_tz": -540,
     "elapsed": 9454,
     "user": {
      "displayName": "이상용",
      "userId": "12156487413186259581"
     }
    },
    "outputId": "8460cdb9-25b6-4547-eaa4-676a15673e71",
    "ExecuteTime": {
     "end_time": "2025-10-10T02:11:33.398224Z",
     "start_time": "2025-10-10T02:11:33.387096Z"
    }
   },
   "id": "_z3JNgY69YsW",
   "outputs": [],
   "execution_count": 6
  },
  {
   "metadata": {
    "id": "b7e30ad38852ce6b",
    "colab": {
     "base_uri": "https://localhost:8080/"
    },
    "executionInfo": {
     "status": "ok",
     "timestamp": 1742367756053,
     "user_tz": -540,
     "elapsed": 11028,
     "user": {
      "displayName": "이상용",
      "userId": "12156487413186259581"
     }
    },
    "outputId": "c4e2aef4-49fe-4382-e8f5-107dd066e42a",
    "ExecuteTime": {
     "end_time": "2025-10-10T03:35:33.596846Z",
     "start_time": "2025-10-10T03:35:33.572824Z"
    }
   },
   "cell_type": "code",
   "source": [
    "import torch\n",
    "import torchvision\n",
    "import torchvision.transforms as transforms\n",
    "import torchvision.datasets as datasets\n",
    "from torch.utils.data import DataLoader\n",
    "\n",
    "# ✅ 데이터 경로 설정\n",
    "data_dir = \"C:\\\\Users\\\\it\\\\Documents\\\\Python-workspace\\\\Ai-ML-DL-workspace-0930\\\\memo\\\\2-CNN\\\\class\\\\\"\n",
    "\n",
    "# 데이터 변환 (이미지 크기 조정, 정규화)\n",
    "transform = transforms.Compose([\n",
    "    transforms.Resize((224, 224)),  # VGG 스타일 크기\n",
    "    transforms.ToTensor(),\n",
    "    transforms.Normalize(mean=[0.485, 0.456, 0.406], std=[0.229, 0.224, 0.225])  # ResNet 정규화 값\n",
    "])\n",
    "\n",
    "# 데이터셋 로드\n",
    "train_dataset = datasets.ImageFolder(root=data_dir, transform=transform)\n",
    "train_loader = DataLoader(train_dataset, batch_size=32, shuffle=True)\n",
    "\n",
    "# 클래스 목록 확인\n",
    "class_names = train_dataset.classes\n",
    "num_classes = len(class_names)\n",
    "print(f\"✅ 클래스 목록: {class_names}\")\n"
   ],
   "id": "b7e30ad38852ce6b",
   "outputs": [
    {
     "name": "stdout",
     "output_type": "stream",
     "text": [
      "✅ 클래스 목록: ['hammer', 'nipper']\n"
     ]
    }
   ],
   "execution_count": 13
  },
  {
   "cell_type": "code",
   "id": "initial_id",
   "metadata": {
    "collapsed": true,
    "id": "initial_id",
    "colab": {
     "base_uri": "https://localhost:8080/"
    },
    "executionInfo": {
     "status": "ok",
     "timestamp": 1742367773728,
     "user_tz": -540,
     "elapsed": 11,
     "user": {
      "displayName": "이상용",
      "userId": "12156487413186259581"
     }
    },
    "outputId": "9a696694-d34f-455a-a4ab-2b7b73743e37",
    "ExecuteTime": {
     "end_time": "2025-10-10T03:35:35.611333Z",
     "start_time": "2025-10-10T03:35:35.599275Z"
    }
   },
   "source": [
    "import os\n",
    "\n",
    "\n",
    "# 데이터 폴더 경로 설정\n",
    "data_dir = \"C:\\\\Users\\\\it\\\\Documents\\\\Python-workspace\\\\Ai-ML-DL-workspace-0930\\\\memo\\\\2-CNN\\\\class\\\\\"\n",
    "\n",
    "# 폴더 안에 있는 클래스 확인\n",
    "print(\"🔍 데이터셋 폴더 내 클래스 확인:\")\n",
    "print(os.listdir(data_dir))\n"
   ],
   "outputs": [
    {
     "name": "stdout",
     "output_type": "stream",
     "text": [
      "🔍 데이터셋 폴더 내 클래스 확인:\n",
      "['hammer', 'nipper']\n"
     ]
    }
   ],
   "execution_count": 14
  },
  {
   "metadata": {
    "id": "51780762fc9cf6f7",
    "executionInfo": {
     "status": "ok",
     "timestamp": 1742367779200,
     "user_tz": -540,
     "elapsed": 1790,
     "user": {
      "displayName": "이상용",
      "userId": "12156487413186259581"
     }
    },
    "colab": {
     "base_uri": "https://localhost:8080/"
    },
    "outputId": "f160462b-ffe0-403e-c5fa-588b0ccc9367",
    "ExecuteTime": {
     "end_time": "2025-10-10T03:35:38.349324Z",
     "start_time": "2025-10-10T03:35:37.541562Z"
    }
   },
   "cell_type": "code",
   "source": [
    "import torch.nn as nn\n",
    "import torch.optim as optim\n",
    "import torchvision.models as models\n",
    "\n",
    "# ✅ ResNet-50 모델 불러오기 (사전 학습된 모델 사용)\n",
    "model = models.resnet50(pretrained=True)\n",
    "\n",
    "# ✅ 마지막 Fully Connected Layer 변경 (기존 1000 → 데이터셋 클래스 개수)\n",
    "model.fc = nn.Linear(model.fc.in_features, num_classes)\n",
    "\n",
    "# ✅ 모델을 GPU로 이동 (가능한 경우)\n",
    "device = torch.device(\"cuda\" if torch.cuda.is_available() else \"cpu\")\n",
    "model.to(device)\n",
    "\n",
    "# 최적화 함수 및 손실 함수\n",
    "criterion = nn.CrossEntropyLoss()\n",
    "optimizer = optim.Adam(model.parameters(), lr=0.001)\n"
   ],
   "id": "51780762fc9cf6f7",
   "outputs": [
    {
     "name": "stderr",
     "output_type": "stream",
     "text": [
      "C:\\Users\\it\\anaconda3\\envs\\Pytorch\\lib\\site-packages\\torchvision\\models\\_utils.py:208: UserWarning: The parameter 'pretrained' is deprecated since 0.13 and may be removed in the future, please use 'weights' instead.\n",
      "  warnings.warn(\n",
      "C:\\Users\\it\\anaconda3\\envs\\Pytorch\\lib\\site-packages\\torchvision\\models\\_utils.py:223: UserWarning: Arguments other than a weight enum or `None` for 'weights' are deprecated since 0.13 and may be removed in the future. The current behavior is equivalent to passing `weights=ResNet50_Weights.IMAGENET1K_V1`. You can also use `weights=ResNet50_Weights.DEFAULT` to get the most up-to-date weights.\n",
      "  warnings.warn(msg)\n"
     ]
    }
   ],
   "execution_count": 15
  },
  {
   "metadata": {
    "id": "b63aa1d040f9b117",
    "colab": {
     "base_uri": "https://localhost:8080/"
    },
    "executionInfo": {
     "status": "ok",
     "timestamp": 1742368299979,
     "user_tz": -540,
     "elapsed": 506139,
     "user": {
      "displayName": "이상용",
      "userId": "12156487413186259581"
     }
    },
    "outputId": "d71a2534-49ab-40ff-9224-ca6ac47ccf15",
    "ExecuteTime": {
     "end_time": "2025-10-10T02:41:22.822957Z",
     "start_time": "2025-10-10T02:11:33.857364Z"
    }
   },
   "cell_type": "code",
   "source": [
    "num_epochs = 10  # 학습 횟수\n",
    "print(\"🚀 모델 학습 시작...\")\n",
    "for epoch in range(num_epochs):\n",
    "    running_loss = 0.0\n",
    "    for i, (images, labels) in enumerate(train_loader):\n",
    "        images, labels = images.to(device), labels.to(device)\n",
    "\n",
    "        optimizer.zero_grad()\n",
    "        outputs = model(images)\n",
    "        loss = criterion(outputs, labels)\n",
    "        loss.backward()\n",
    "        optimizer.step()\n",
    "        running_loss += loss.item()\n",
    "\n",
    "        # 1번마다 손실값 출력\n",
    "        if (i + 1) % 1 == 0:\n",
    "            print(f\"Epoch [{epoch+1}/{num_epochs}], Step [{i+1}/{len(train_loader)}], Loss: {running_loss / 100:.4f}\")\n",
    "            running_loss = 0.0\n"
   ],
   "id": "b63aa1d040f9b117",
   "outputs": [
    {
     "name": "stdout",
     "output_type": "stream",
     "text": [
      "🚀 모델 학습 시작...\n",
      "Epoch [1/10], Step [1/25], Loss: 0.0070\n",
      "Epoch [1/10], Step [2/25], Loss: 0.0020\n",
      "Epoch [1/10], Step [3/25], Loss: 0.0016\n",
      "Epoch [1/10], Step [4/25], Loss: 0.0085\n",
      "Epoch [1/10], Step [5/25], Loss: 0.0069\n",
      "Epoch [1/10], Step [6/25], Loss: 0.0138\n",
      "Epoch [1/10], Step [7/25], Loss: 0.0024\n",
      "Epoch [1/10], Step [8/25], Loss: 0.0023\n",
      "Epoch [1/10], Step [9/25], Loss: 0.0022\n",
      "Epoch [1/10], Step [10/25], Loss: 0.0015\n",
      "Epoch [1/10], Step [11/25], Loss: 0.0038\n",
      "Epoch [1/10], Step [12/25], Loss: 0.0032\n",
      "Epoch [1/10], Step [13/25], Loss: 0.0030\n",
      "Epoch [1/10], Step [14/25], Loss: 0.0014\n",
      "Epoch [1/10], Step [15/25], Loss: 0.0022\n",
      "Epoch [1/10], Step [16/25], Loss: 0.0013\n",
      "Epoch [1/10], Step [17/25], Loss: 0.0011\n",
      "Epoch [1/10], Step [18/25], Loss: 0.0009\n",
      "Epoch [1/10], Step [19/25], Loss: 0.0033\n",
      "Epoch [1/10], Step [20/25], Loss: 0.0015\n",
      "Epoch [1/10], Step [21/25], Loss: 0.0018\n",
      "Epoch [1/10], Step [22/25], Loss: 0.0027\n",
      "Epoch [1/10], Step [23/25], Loss: 0.0021\n",
      "Epoch [1/10], Step [24/25], Loss: 0.0065\n",
      "Epoch [1/10], Step [25/25], Loss: 0.0009\n",
      "Epoch [2/10], Step [1/25], Loss: 0.0023\n",
      "Epoch [2/10], Step [2/25], Loss: 0.0011\n",
      "Epoch [2/10], Step [3/25], Loss: 0.0004\n",
      "Epoch [2/10], Step [4/25], Loss: 0.0007\n",
      "Epoch [2/10], Step [5/25], Loss: 0.0012\n",
      "Epoch [2/10], Step [6/25], Loss: 0.0005\n",
      "Epoch [2/10], Step [7/25], Loss: 0.0024\n",
      "Epoch [2/10], Step [8/25], Loss: 0.0002\n",
      "Epoch [2/10], Step [9/25], Loss: 0.0006\n",
      "Epoch [2/10], Step [10/25], Loss: 0.0024\n",
      "Epoch [2/10], Step [11/25], Loss: 0.0003\n",
      "Epoch [2/10], Step [12/25], Loss: 0.0008\n",
      "Epoch [2/10], Step [13/25], Loss: 0.0003\n",
      "Epoch [2/10], Step [14/25], Loss: 0.0001\n",
      "Epoch [2/10], Step [15/25], Loss: 0.0001\n",
      "Epoch [2/10], Step [16/25], Loss: 0.0002\n",
      "Epoch [2/10], Step [17/25], Loss: 0.0014\n",
      "Epoch [2/10], Step [18/25], Loss: 0.0002\n",
      "Epoch [2/10], Step [19/25], Loss: 0.0022\n",
      "Epoch [2/10], Step [20/25], Loss: 0.0018\n",
      "Epoch [2/10], Step [21/25], Loss: 0.0018\n",
      "Epoch [2/10], Step [22/25], Loss: 0.0020\n",
      "Epoch [2/10], Step [23/25], Loss: 0.0007\n",
      "Epoch [2/10], Step [24/25], Loss: 0.0005\n",
      "Epoch [2/10], Step [25/25], Loss: 0.0013\n",
      "Epoch [3/10], Step [1/25], Loss: 0.0019\n",
      "Epoch [3/10], Step [2/25], Loss: 0.0015\n",
      "Epoch [3/10], Step [3/25], Loss: 0.0006\n",
      "Epoch [3/10], Step [4/25], Loss: 0.0001\n",
      "Epoch [3/10], Step [5/25], Loss: 0.0013\n",
      "Epoch [3/10], Step [6/25], Loss: 0.0004\n",
      "Epoch [3/10], Step [7/25], Loss: 0.0001\n",
      "Epoch [3/10], Step [8/25], Loss: 0.0006\n",
      "Epoch [3/10], Step [9/25], Loss: 0.0001\n",
      "Epoch [3/10], Step [10/25], Loss: 0.0019\n",
      "Epoch [3/10], Step [11/25], Loss: 0.0030\n",
      "Epoch [3/10], Step [12/25], Loss: 0.0004\n",
      "Epoch [3/10], Step [13/25], Loss: 0.0006\n",
      "Epoch [3/10], Step [14/25], Loss: 0.0006\n",
      "Epoch [3/10], Step [15/25], Loss: 0.0011\n",
      "Epoch [3/10], Step [16/25], Loss: 0.0002\n",
      "Epoch [3/10], Step [17/25], Loss: 0.0010\n",
      "Epoch [3/10], Step [18/25], Loss: 0.0021\n",
      "Epoch [3/10], Step [19/25], Loss: 0.0008\n",
      "Epoch [3/10], Step [20/25], Loss: 0.0014\n",
      "Epoch [3/10], Step [21/25], Loss: 0.0001\n",
      "Epoch [3/10], Step [22/25], Loss: 0.0017\n",
      "Epoch [3/10], Step [23/25], Loss: 0.0001\n",
      "Epoch [3/10], Step [24/25], Loss: 0.0020\n",
      "Epoch [3/10], Step [25/25], Loss: 0.0020\n",
      "Epoch [4/10], Step [1/25], Loss: 0.0019\n",
      "Epoch [4/10], Step [2/25], Loss: 0.0022\n",
      "Epoch [4/10], Step [3/25], Loss: 0.0003\n",
      "Epoch [4/10], Step [4/25], Loss: 0.0014\n",
      "Epoch [4/10], Step [5/25], Loss: 0.0001\n",
      "Epoch [4/10], Step [6/25], Loss: 0.0004\n",
      "Epoch [4/10], Step [7/25], Loss: 0.0000\n",
      "Epoch [4/10], Step [8/25], Loss: 0.0006\n",
      "Epoch [4/10], Step [9/25], Loss: 0.0006\n",
      "Epoch [4/10], Step [10/25], Loss: 0.0002\n",
      "Epoch [4/10], Step [11/25], Loss: 0.0011\n",
      "Epoch [4/10], Step [12/25], Loss: 0.0011\n",
      "Epoch [4/10], Step [13/25], Loss: 0.0002\n",
      "Epoch [4/10], Step [14/25], Loss: 0.0002\n",
      "Epoch [4/10], Step [15/25], Loss: 0.0006\n",
      "Epoch [4/10], Step [16/25], Loss: 0.0001\n",
      "Epoch [4/10], Step [17/25], Loss: 0.0002\n",
      "Epoch [4/10], Step [18/25], Loss: 0.0019\n",
      "Epoch [4/10], Step [19/25], Loss: 0.0034\n",
      "Epoch [4/10], Step [20/25], Loss: 0.0010\n",
      "Epoch [4/10], Step [21/25], Loss: 0.0004\n",
      "Epoch [4/10], Step [22/25], Loss: 0.0001\n",
      "Epoch [4/10], Step [23/25], Loss: 0.0007\n",
      "Epoch [4/10], Step [24/25], Loss: 0.0006\n",
      "Epoch [4/10], Step [25/25], Loss: 0.0001\n",
      "Epoch [5/10], Step [1/25], Loss: 0.0001\n",
      "Epoch [5/10], Step [2/25], Loss: 0.0002\n",
      "Epoch [5/10], Step [3/25], Loss: 0.0001\n",
      "Epoch [5/10], Step [4/25], Loss: 0.0010\n",
      "Epoch [5/10], Step [5/25], Loss: 0.0003\n",
      "Epoch [5/10], Step [6/25], Loss: 0.0004\n",
      "Epoch [5/10], Step [7/25], Loss: 0.0004\n",
      "Epoch [5/10], Step [8/25], Loss: 0.0046\n",
      "Epoch [5/10], Step [9/25], Loss: 0.0002\n",
      "Epoch [5/10], Step [10/25], Loss: 0.0005\n",
      "Epoch [5/10], Step [11/25], Loss: 0.0001\n",
      "Epoch [5/10], Step [12/25], Loss: 0.0003\n",
      "Epoch [5/10], Step [13/25], Loss: 0.0003\n",
      "Epoch [5/10], Step [14/25], Loss: 0.0001\n",
      "Epoch [5/10], Step [15/25], Loss: 0.0001\n",
      "Epoch [5/10], Step [16/25], Loss: 0.0001\n",
      "Epoch [5/10], Step [17/25], Loss: 0.0003\n",
      "Epoch [5/10], Step [18/25], Loss: 0.0027\n",
      "Epoch [5/10], Step [19/25], Loss: 0.0002\n",
      "Epoch [5/10], Step [20/25], Loss: 0.0003\n",
      "Epoch [5/10], Step [21/25], Loss: 0.0001\n",
      "Epoch [5/10], Step [22/25], Loss: 0.0004\n",
      "Epoch [5/10], Step [23/25], Loss: 0.0002\n",
      "Epoch [5/10], Step [24/25], Loss: 0.0001\n",
      "Epoch [5/10], Step [25/25], Loss: 0.0024\n",
      "Epoch [6/10], Step [1/25], Loss: 0.0002\n",
      "Epoch [6/10], Step [2/25], Loss: 0.0004\n",
      "Epoch [6/10], Step [3/25], Loss: 0.0001\n",
      "Epoch [6/10], Step [4/25], Loss: 0.0000\n",
      "Epoch [6/10], Step [5/25], Loss: 0.0006\n",
      "Epoch [6/10], Step [6/25], Loss: 0.0002\n",
      "Epoch [6/10], Step [7/25], Loss: 0.0014\n",
      "Epoch [6/10], Step [8/25], Loss: 0.0000\n",
      "Epoch [6/10], Step [9/25], Loss: 0.0000\n",
      "Epoch [6/10], Step [10/25], Loss: 0.0000\n",
      "Epoch [6/10], Step [11/25], Loss: 0.0000\n",
      "Epoch [6/10], Step [12/25], Loss: 0.0001\n",
      "Epoch [6/10], Step [13/25], Loss: 0.0004\n",
      "Epoch [6/10], Step [14/25], Loss: 0.0001\n",
      "Epoch [6/10], Step [15/25], Loss: 0.0001\n",
      "Epoch [6/10], Step [16/25], Loss: 0.0000\n",
      "Epoch [6/10], Step [17/25], Loss: 0.0000\n",
      "Epoch [6/10], Step [18/25], Loss: 0.0009\n",
      "Epoch [6/10], Step [19/25], Loss: 0.0004\n",
      "Epoch [6/10], Step [20/25], Loss: 0.0000\n",
      "Epoch [6/10], Step [21/25], Loss: 0.0005\n",
      "Epoch [6/10], Step [22/25], Loss: 0.0001\n",
      "Epoch [6/10], Step [23/25], Loss: 0.0002\n",
      "Epoch [6/10], Step [24/25], Loss: 0.0000\n",
      "Epoch [6/10], Step [25/25], Loss: 0.0001\n",
      "Epoch [7/10], Step [1/25], Loss: 0.0000\n",
      "Epoch [7/10], Step [2/25], Loss: 0.0001\n",
      "Epoch [7/10], Step [3/25], Loss: 0.0001\n",
      "Epoch [7/10], Step [4/25], Loss: 0.0009\n",
      "Epoch [7/10], Step [5/25], Loss: 0.0001\n",
      "Epoch [7/10], Step [6/25], Loss: 0.0000\n",
      "Epoch [7/10], Step [7/25], Loss: 0.0003\n",
      "Epoch [7/10], Step [8/25], Loss: 0.0000\n",
      "Epoch [7/10], Step [9/25], Loss: 0.0002\n",
      "Epoch [7/10], Step [10/25], Loss: 0.0000\n",
      "Epoch [7/10], Step [11/25], Loss: 0.0000\n",
      "Epoch [7/10], Step [12/25], Loss: 0.0001\n",
      "Epoch [7/10], Step [13/25], Loss: 0.0000\n",
      "Epoch [7/10], Step [14/25], Loss: 0.0001\n",
      "Epoch [7/10], Step [15/25], Loss: 0.0000\n",
      "Epoch [7/10], Step [16/25], Loss: 0.0000\n",
      "Epoch [7/10], Step [17/25], Loss: 0.0001\n",
      "Epoch [7/10], Step [18/25], Loss: 0.0000\n",
      "Epoch [7/10], Step [19/25], Loss: 0.0012\n",
      "Epoch [7/10], Step [20/25], Loss: 0.0000\n",
      "Epoch [7/10], Step [21/25], Loss: 0.0001\n",
      "Epoch [7/10], Step [22/25], Loss: 0.0000\n",
      "Epoch [7/10], Step [23/25], Loss: 0.0001\n",
      "Epoch [7/10], Step [24/25], Loss: 0.0002\n",
      "Epoch [7/10], Step [25/25], Loss: 0.0000\n",
      "Epoch [8/10], Step [1/25], Loss: 0.0000\n",
      "Epoch [8/10], Step [2/25], Loss: 0.0000\n",
      "Epoch [8/10], Step [3/25], Loss: 0.0001\n",
      "Epoch [8/10], Step [4/25], Loss: 0.0000\n",
      "Epoch [8/10], Step [5/25], Loss: 0.0001\n",
      "Epoch [8/10], Step [6/25], Loss: 0.0001\n",
      "Epoch [8/10], Step [7/25], Loss: 0.0000\n",
      "Epoch [8/10], Step [8/25], Loss: 0.0000\n",
      "Epoch [8/10], Step [9/25], Loss: 0.0000\n",
      "Epoch [8/10], Step [10/25], Loss: 0.0000\n",
      "Epoch [8/10], Step [11/25], Loss: 0.0000\n",
      "Epoch [8/10], Step [12/25], Loss: 0.0000\n",
      "Epoch [8/10], Step [13/25], Loss: 0.0000\n",
      "Epoch [8/10], Step [14/25], Loss: 0.0000\n",
      "Epoch [8/10], Step [15/25], Loss: 0.0000\n",
      "Epoch [8/10], Step [16/25], Loss: 0.0000\n",
      "Epoch [8/10], Step [17/25], Loss: 0.0000\n",
      "Epoch [8/10], Step [18/25], Loss: 0.0000\n",
      "Epoch [8/10], Step [19/25], Loss: 0.0012\n",
      "Epoch [8/10], Step [20/25], Loss: 0.0000\n",
      "Epoch [8/10], Step [21/25], Loss: 0.0000\n",
      "Epoch [8/10], Step [22/25], Loss: 0.0000\n",
      "Epoch [8/10], Step [23/25], Loss: 0.0000\n",
      "Epoch [8/10], Step [24/25], Loss: 0.0000\n",
      "Epoch [8/10], Step [25/25], Loss: 0.0003\n",
      "Epoch [9/10], Step [1/25], Loss: 0.0000\n",
      "Epoch [9/10], Step [2/25], Loss: 0.0000\n",
      "Epoch [9/10], Step [3/25], Loss: 0.0000\n",
      "Epoch [9/10], Step [4/25], Loss: 0.0000\n",
      "Epoch [9/10], Step [5/25], Loss: 0.0000\n",
      "Epoch [9/10], Step [6/25], Loss: 0.0000\n",
      "Epoch [9/10], Step [7/25], Loss: 0.0000\n",
      "Epoch [9/10], Step [8/25], Loss: 0.0004\n",
      "Epoch [9/10], Step [9/25], Loss: 0.0001\n",
      "Epoch [9/10], Step [10/25], Loss: 0.0002\n",
      "Epoch [9/10], Step [11/25], Loss: 0.0000\n",
      "Epoch [9/10], Step [12/25], Loss: 0.0001\n",
      "Epoch [9/10], Step [13/25], Loss: 0.0000\n",
      "Epoch [9/10], Step [14/25], Loss: 0.0001\n",
      "Epoch [9/10], Step [15/25], Loss: 0.0001\n",
      "Epoch [9/10], Step [16/25], Loss: 0.0001\n",
      "Epoch [9/10], Step [17/25], Loss: 0.0007\n",
      "Epoch [9/10], Step [18/25], Loss: 0.0000\n",
      "Epoch [9/10], Step [19/25], Loss: 0.0000\n",
      "Epoch [9/10], Step [20/25], Loss: 0.0013\n",
      "Epoch [9/10], Step [21/25], Loss: 0.0009\n",
      "Epoch [9/10], Step [22/25], Loss: 0.0000\n",
      "Epoch [9/10], Step [23/25], Loss: 0.0001\n",
      "Epoch [9/10], Step [24/25], Loss: 0.0001\n",
      "Epoch [9/10], Step [25/25], Loss: 0.0000\n",
      "Epoch [10/10], Step [1/25], Loss: 0.0000\n",
      "Epoch [10/10], Step [2/25], Loss: 0.0000\n",
      "Epoch [10/10], Step [3/25], Loss: 0.0040\n",
      "Epoch [10/10], Step [4/25], Loss: 0.0013\n",
      "Epoch [10/10], Step [5/25], Loss: 0.0000\n",
      "Epoch [10/10], Step [6/25], Loss: 0.0000\n",
      "Epoch [10/10], Step [7/25], Loss: 0.0000\n",
      "Epoch [10/10], Step [8/25], Loss: 0.0001\n",
      "Epoch [10/10], Step [9/25], Loss: 0.0000\n",
      "Epoch [10/10], Step [10/25], Loss: 0.0002\n",
      "Epoch [10/10], Step [11/25], Loss: 0.0008\n",
      "Epoch [10/10], Step [12/25], Loss: 0.0001\n",
      "Epoch [10/10], Step [13/25], Loss: 0.0000\n",
      "Epoch [10/10], Step [14/25], Loss: 0.0001\n",
      "Epoch [10/10], Step [15/25], Loss: 0.0005\n",
      "Epoch [10/10], Step [16/25], Loss: 0.0000\n",
      "Epoch [10/10], Step [17/25], Loss: 0.0006\n",
      "Epoch [10/10], Step [18/25], Loss: 0.0000\n",
      "Epoch [10/10], Step [19/25], Loss: 0.0000\n",
      "Epoch [10/10], Step [20/25], Loss: 0.0001\n",
      "Epoch [10/10], Step [21/25], Loss: 0.0003\n",
      "Epoch [10/10], Step [22/25], Loss: 0.0000\n",
      "Epoch [10/10], Step [23/25], Loss: 0.0000\n",
      "Epoch [10/10], Step [24/25], Loss: 0.0000\n",
      "Epoch [10/10], Step [25/25], Loss: 0.0000\n"
     ]
    }
   ],
   "execution_count": 10
  },
  {
   "metadata": {
    "id": "3476566cbfe22817",
    "colab": {
     "base_uri": "https://localhost:8080/"
    },
    "executionInfo": {
     "status": "ok",
     "timestamp": 1742368308135,
     "user_tz": -540,
     "elapsed": 292,
     "user": {
      "displayName": "이상용",
      "userId": "12156487413186259581"
     }
    },
    "outputId": "e26a8579-3363-495d-e425-64047c008050",
    "ExecuteTime": {
     "end_time": "2025-10-10T03:35:45.648791Z",
     "start_time": "2025-10-10T03:35:45.545588Z"
    }
   },
   "cell_type": "code",
   "source": [
    "model_path = \"C:\\\\Users\\\\it\\\\Documents\\\\Python-workspace\\\\Ai-ML-DL-workspace-0930\\\\memo\\\\3-Resnet\\\\resnet50-251010_model.pth\"\n",
    "torch.save(model.state_dict(), model_path)\n",
    "print(f\"✅ 학습된 모델이 저장되었습니다: {model_path}\")\n"
   ],
   "id": "3476566cbfe22817",
   "outputs": [
    {
     "name": "stdout",
     "output_type": "stream",
     "text": [
      "✅ 학습된 모델이 저장되었습니다: C:\\Users\\it\\Documents\\Python-workspace\\Ai-ML-DL-workspace-0930\\memo\\3-Resnet\\resnet50-251010_model.pth\n"
     ]
    }
   ],
   "execution_count": 16
  },
  {
   "metadata": {
    "id": "33bcf739558ccf89",
    "executionInfo": {
     "status": "ok",
     "timestamp": 1742368313785,
     "user_tz": -540,
     "elapsed": 561,
     "user": {
      "displayName": "이상용",
      "userId": "12156487413186259581"
     }
    },
    "colab": {
     "base_uri": "https://localhost:8080/"
    },
    "outputId": "9ac198c2-5713-4fbd-ad0f-51b1a90d1a4c",
    "ExecuteTime": {
     "end_time": "2025-10-10T03:35:47.965076Z",
     "start_time": "2025-10-10T03:35:47.554377Z"
    }
   },
   "cell_type": "code",
   "source": [
    "\n",
    "def load_model(model_path, num_classes):\n",
    "    model = models.resnet50(pretrained=False)  # 새 모델 생성\n",
    "    model.fc = nn.Linear(model.fc.in_features, num_classes)  # Fully Connected Layer 맞춤 설정\n",
    "    model.load_state_dict(torch.load(model_path, map_location=torch.device(\"cpu\")))  # CPU에서 로드\n",
    "    model.eval()  # 평가 모드로 설정\n",
    "    return model\n",
    "\n",
    "# ✅ 모델 불러오기\n",
    "loaded_model = load_model(model_path, num_classes)\n",
    "print(\"✅ 모델이 성공적으로 불러와졌습니다!\")"
   ],
   "id": "33bcf739558ccf89",
   "outputs": [
    {
     "name": "stderr",
     "output_type": "stream",
     "text": [
      "C:\\Users\\it\\anaconda3\\envs\\Pytorch\\lib\\site-packages\\torchvision\\models\\_utils.py:223: UserWarning: Arguments other than a weight enum or `None` for 'weights' are deprecated since 0.13 and may be removed in the future. The current behavior is equivalent to passing `weights=None`.\n",
      "  warnings.warn(msg)\n"
     ]
    },
    {
     "name": "stdout",
     "output_type": "stream",
     "text": [
      "✅ 모델이 성공적으로 불러와졌습니다!\n"
     ]
    }
   ],
   "execution_count": 17
  },
  {
   "metadata": {
    "id": "692438c0cf1a1400",
    "colab": {
     "base_uri": "https://localhost:8080/",
     "height": 465
    },
    "executionInfo": {
     "status": "ok",
     "timestamp": 1742368407693,
     "user_tz": -540,
     "elapsed": 1082,
     "user": {
      "displayName": "이상용",
      "userId": "12156487413186259581"
     }
    },
    "outputId": "404af38f-6759-46fc-d014-be779b41074a",
    "jupyter": {
     "is_executing": true
    },
    "ExecuteTime": {
     "start_time": "2025-10-10T03:35:59.481300Z"
    }
   },
   "cell_type": "code",
   "source": [
    "from PIL import Image\n",
    "import matplotlib.pyplot as plt\n",
    "import torch.nn.functional as F\n",
    "\n",
    "def predict_sample(image_path, model, class_names):\n",
    "    \"\"\"\n",
    "       저장된 ResNet-50 모델을 사용하여 샘플 이미지를 예측하는 함수.\n",
    "    \"\"\"\n",
    "    # 이미지 불러오기 및 전처리\n",
    "    image = Image.open(image_path).convert(\"RGB\")\n",
    "    transform = transforms.Compose([\n",
    "        transforms.Resize((224, 224)),\n",
    "        transforms.ToTensor(),\n",
    "        transforms.Normalize(mean=[0.485, 0.456, 0.406], std=[0.229, 0.224, 0.225])  # ResNet 정규화 값\n",
    "    ])\n",
    "    image = transform(image).unsqueeze(0)  # 배치 차원 추가 (1, 3, 224, 224)\n",
    "\n",
    "    # 모델 예측\n",
    "    with torch.no_grad():\n",
    "      output = model(image)\n",
    "      probabilities = F.softmax(output[0], dim=0)  # Softmax 적용\n",
    "      predicted_idx = torch.argmax(probabilities).item()\n",
    "      confidence = probabilities[predicted_idx].item()\n",
    "\n",
    "    # ✅ 결과 출력\n",
    "    plt.imshow(Image.open(image_path))\n",
    "    plt.title(f\"Predicted: {class_names[predicted_idx]} ({confidence * 100:.2f}%)\")\n",
    "    plt.axis('off')\n",
    "    plt.show()\n",
    "\n",
    "    print(f\"🔍 예측된 클래스: {class_names[predicted_idx]}\")\n",
    "    print(f\"📊 정확도: {confidence * 100:.2f}%\")\n",
    "\n",
    "# 🏆 샘플 이미지 경로 입력하여 예측 실행\n",
    "sample_image = \"C:\\\\Users\\\\it\\\\Documents\\\\Python-workspace\\\\Ai-ML-DL-workspace-0930\\\\memo\\\\2-CNN\\\\sample.jpg\"\n",
    "predict_sample(sample_image, loaded_model, class_names)\n"
   ],
   "id": "692438c0cf1a1400",
   "outputs": [],
   "execution_count": null
  },
  {
   "cell_type": "code",
   "source": [],
   "metadata": {
    "id": "hYBKKO3LDJRZ"
   },
   "id": "hYBKKO3LDJRZ",
   "execution_count": null,
   "outputs": []
  }
 ],
 "metadata": {
  "kernelspec": {
   "display_name": "Python 3 (ipykernel)",
   "name": "python3",
   "language": "python"
  },
  "language_info": {
   "codemirror_mode": {
    "name": "ipython",
    "version": 2
   },
   "file_extension": ".py",
   "mimetype": "text/x-python",
   "name": "python",
   "nbconvert_exporter": "python",
   "pygments_lexer": "ipython2",
   "version": "2.7.6"
  },
  "colab": {
   "provenance": [],
   "gpuType": "T4"
  },
  "accelerator": "GPU"
 },
 "nbformat": 4,
 "nbformat_minor": 5
}
